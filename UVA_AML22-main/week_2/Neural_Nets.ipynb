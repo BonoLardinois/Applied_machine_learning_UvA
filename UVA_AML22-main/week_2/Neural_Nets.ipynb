{
 "cells": [
  {
   "cell_type": "markdown",
   "metadata": {},
   "source": [
    "# Before you start\n",
    "\n",
    "1. Please copy the code from the previous assignment (week 1) into a separate file `blocks.py`. Make sure it resides in the same folder as this notebook. It should contain the implementation of the building blocks. \n",
    "2. Downlod the files from [here](http://yann.lecun.com/exdb/mnist/) and place them next to this notebook. You should have 4 files: `t10k-images-idx3-ubyte\n",
    "3. All functions should be implemented using [**NumPy**](https://docs.scipy.org/doc/)."
   ]
  },
  {
   "cell_type": "markdown",
   "metadata": {},
   "source": [
    "The goal of this assignment is to supply you with the **building blocks** of **neural networks** (NNs). In this notebook, we will cover the main aspects of NNs, e.g., **Optimization Methods**. \n",
    "You will understand how **Convolutional Neural Networks** and the basics of **image filtering** work. We will implement matrix convolution as well as the convolutional layer from scratch.\n",
    "\n",
    "\n",
    "### Note\n",
    "Some of the concepts below have not (yet) been discussed during the lecture. These will be discussed further during the next lectures. "
   ]
  },
  {
   "cell_type": "markdown",
   "metadata": {},
   "source": [
    "# Table of contents\n",
    "\n",
    "* [1. Fully-Connected Neural Networks](#1.-Fully-Connected-Neural-Networks)\n",
    "    * [1.1 Dense layer](#1.1-Dense-layer)\n",
    "    * [1.2 ReLU nonlinearity](#1.2-ReLU-nonlinearity)\n",
    "    * [1.3 Sigmoid nonlinearity](#1.3-Sigmoid-nonlinearity)\n",
    "    * [1.4 Sequential model](#1.4-Sequential-model)\n",
    "    * [1.5 NLL loss function](#1.5-NLL-loss-function)\n",
    "    * [1.6 $L_2$ regularization](#1.6-$L_2$-regularization)\n",
    "    * [1.7 SGD optimizer](#1.7-SGD-optimizer)\n",
    "* [2. Experiments](#2.-Experiments)\n",
    "* [3. Convolutions](#3.-Convolutions)\n",
    "    * [3.1 Matrix convolution](#3.1-Matrix-convolution)\n",
    "    * [3.2 Basic kernels](#3.2-Matrix-convolution)\n",
    "    * [3.3 Convolutional layer](#3.3-Convolutional-layer)\n",
    "    * [3.4 Pooling layer](#3.4-Pooling-layer)\n",
    "    * [3.5 Flatten](#3.5-Flatten)\n",
    "* [4. Image Experiments](#4.-Image-Experiments)"
   ]
  },
  {
   "cell_type": "code",
   "execution_count": 13,
   "metadata": {
    "scrolled": false
   },
   "outputs": [
    {
     "name": "stdout",
     "output_type": "stream",
     "text": [
      "---------------------------------------------\n",
      "| Bono Lardinois                            |\n",
      "| bono.lardinois@student.uva.nl             |\n",
      "---------------------------------------------\n",
      "| Current Assignment Grade 100%              |\n",
      "---------------------------------------------\n",
      "| w1_linear_forward        | completed      |\n",
      "| w1_linear_grad_W         | completed      |\n",
      "| w1_linear_grad_b         | completed      |\n",
      "| w1_nll_forward           | completed      |\n",
      "| w1_nll_grad_input        | completed      |\n",
      "| w1_sigmoid_forward       | completed      |\n",
      "| w1_sigmoid_grad_input    | completed      |\n",
      "| w1_tree_gini_index       | completed      |\n",
      "| w1_tree_split_data_left  | completed      |\n",
      "| w1_tree_split_data_right | completed      |\n",
      "| w1_tree_to_terminal      | completed      |\n",
      "| w2_box_blur              | completed      |\n",
      "| w2_conv_matrix           | completed      |\n",
      "| w2_dense_forward         | completed      |\n",
      "| w2_flatten_forward       | completed      |\n",
      "| w2_l2_regularizer        | completed      |\n",
      "| w2_maxpool_forward       | completed      |\n",
      "| w2_relu_forward          | completed      |\n",
      "---------------------------------------------\n"
     ]
    }
   ],
   "source": [
    "from __future__ import print_function, absolute_import, division \n",
    "import numpy as np\n",
    "import matplotlib.pyplot as plt\n",
    "%matplotlib inline\n",
    "\n",
    "# import blocks\n",
    "\n",
    "import automark as am\n",
    "\n",
    "# fill in you student number as your username\n",
    "username = '11713364'\n",
    "\n",
    "# to check your progress, you can run this function\n",
    "am.get_progress(username)"
   ]
  },
  {
   "cell_type": "markdown",
   "metadata": {},
   "source": [
    "# 1. Fully-Connected Neural Networks"
   ]
  },
  {
   "cell_type": "markdown",
   "metadata": {},
   "source": [
    "Neural networks consist of several layers. Each layer is a function of several parameters that we call weights: $h = f(x, w)$ where $h$ is the layer, $x$ is a vector of inputs and w is a vector of weights. \n",
    "In the neural network, the output of one layer is the input for the next layer. This means we can chain the different functions. The whole neural network $F$ then becomes a composition of different functions. \n",
    "$$\n",
    "F = f_k \\circ f_{k-1} \\circ \\dots \\ f_1\\\\\n",
    "h_1 = f_1(x, w_1)\\\\\n",
    "h_2 = f_2(h_1, w_2)\\\\\n",
    "\\dots \\\\\n",
    "\\dot{y} = f_k(h_{k-1}, w_k)\n",
    "$$\n",
    "In the above functions, $w_1$ and $w_2$ are different **weight vectors** that apply to the different layers $h_1$ and $h_2$. The weights of a neural network basically determine the effect certain outputs have on the next layer. (Please note: When searching for these terms on the internet, be aware that **weights** are sometimes called **parameters**, and $w$ is sometimes denoted as $\\theta$.) \n",
    "\n",
    "\n",
    "At the end of every neural network, there is a loss function. A loss function calculates for the performance of the Neural Network. The calculation of this score depends on the task at hand. For classification tasks the loss function would calculate the difference between prediction and the correct value. In this case the function is a summation of this difference for each data point. Calculating this difference can, again, be done in different ways. One example that we have discussed in class is the squared-loss for linear regression. (Here, the difference between predicted and correct classification is squared so positive and negative differences don't cancel eachother.) \n",
    "$$\\mathcal{L} = \\tfrac{1}{2}\\sum_{n = 1}^N (y_n - \\dot{y}_n)^2$$\n",
    "Here, $n$ denotes the different datapoints, $y_n$ and $\\dot{y}$ represent the correct and the predicted value for that data point respectively. \n",
    "\n",
    "\n",
    "\n",
    "The smaller the outcome of this loss function, the better the Neural Network predicts the data. Therefore, we concentrate on **minimizing the loss function** as a means for **training** the neural network. \n",
    "\n",
    "\n",
    "Training is done with [Gradient descent](https://en.wikipedia.org/wiki/Gradient_descent). In this assignment, you should only foucus on the forward pass of neural nets, we implement backbpropogation for you."
   ]
  },
  {
   "cell_type": "markdown",
   "metadata": {},
   "source": [
    "## 1.1 Dense layer\n",
    "A dense Layer is the basic layer of a neural network. (Other terms for dense layer are fully-connected layer and multiplicative layer.) A dense layer transforms an input matrix of size `(n_objects, d_in)` to a matrix of size `(n_objects, d_out)` (where d stands for dimensions) by performing the following operation:\n",
    "$$\n",
    "H = XW + b\n",
    "$$\n",
    "Here $H$ represents the function of the dense layer, $X$ is the input matrix, $W$ is the weight matrix for this layer and $b$ is the bias. The bias $b$ is a vector. \n",
    "\n",
    "A more detailed version of this function is: \n",
    "$$\n",
    "H_{nk} = \\sum\\limits_{i=1}^{d_{in}} X_{ni}W_{ik} + b_k\n",
    "$$\n",
    "where $n$ denotes again a single data object and $k$ the $k^{th}$ layer.\n",
    "\n",
    "**Example**: \n",
    "\n",
    "You have a neural network of just 1 layer. The inputs are points in a 3D space and you want to classify this point as either $-1$ or $1$. \n",
    "You have $75$ objects in your training set. \n",
    "\n",
    "Therefore, $X$ has shape $75 \\times 3$. $H$ has shape $75 \\times 1$. Weight $W$ of the layer has shape $3 \\times 1$.\n",
    "\n",
    "**NOTE: \"Dense Layer\" is linear. So its mapping is exactly the same as of \"Linear\" function from the previous week but `n_out` is not restricted to 1. We use name \"Dense\" in order to distinquish between these two functions**"
   ]
  },
  {
   "cell_type": "code",
   "execution_count": 16,
   "metadata": {},
   "outputs": [],
   "source": [
    "def w2_dense_forward(x_input, W, b):\n",
    "    \"\"\"Perform the mapping of the input\n",
    "    # Arguments\n",
    "        x_input: input of a dense layer - np.array of size `(n_objects, n_in)`\n",
    "        W: np.array of size `(n_in, n_out)`\n",
    "        b: np.array of size `(n_out,)`\n",
    "    # Output\n",
    "        the output of a dense layer \n",
    "        np.array of size `(n_objects, n_out)`\n",
    "    \"\"\"\n",
    "    output = np.dot(x_input, W) + b\n",
    "    return output"
   ]
  },
  {
   "cell_type": "code",
   "execution_count": 17,
   "metadata": {},
   "outputs": [
    {
     "name": "stdout",
     "output_type": "stream",
     "text": [
      "Running local tests...\n",
      "w2_dense_forward successfully passed local tests\n",
      "Running remote test...\n",
      "Test was successful. Congratulations!\n"
     ]
    }
   ],
   "source": [
    "am.test_student_function(username, w2_dense_forward, ['x_input', 'W', 'b'])"
   ]
  },
  {
   "cell_type": "code",
   "execution_count": 18,
   "metadata": {},
   "outputs": [
    {
     "name": "stdout",
     "output_type": "stream",
     "text": [
      "---------------------------------------------\n",
      "| Bono Lardinois                            |\n",
      "| bono.lardinois@student.uva.nl             |\n",
      "---------------------------------------------\n",
      "| Current Assignment Grade 100%              |\n",
      "---------------------------------------------\n",
      "| w1_linear_forward        | completed      |\n",
      "| w1_linear_grad_W         | completed      |\n",
      "| w1_linear_grad_b         | completed      |\n",
      "| w1_nll_forward           | completed      |\n",
      "| w1_nll_grad_input        | completed      |\n",
      "| w1_sigmoid_forward       | completed      |\n",
      "| w1_sigmoid_grad_input    | completed      |\n",
      "| w1_tree_gini_index       | completed      |\n",
      "| w1_tree_split_data_left  | completed      |\n",
      "| w1_tree_split_data_right | completed      |\n",
      "| w1_tree_to_terminal      | completed      |\n",
      "| w2_box_blur              | completed      |\n",
      "| w2_conv_matrix           | completed      |\n",
      "| w2_dense_forward         | completed      |\n",
      "| w2_flatten_forward       | completed      |\n",
      "| w2_l2_regularizer        | completed      |\n",
      "| w2_maxpool_forward       | completed      |\n",
      "| w2_relu_forward          | completed      |\n",
      "---------------------------------------------\n"
     ]
    }
   ],
   "source": [
    "am.get_progress(username)"
   ]
  },
  {
   "cell_type": "markdown",
   "metadata": {},
   "source": [
    "Here, we implement a backward pass, which is calculated with the gradient."
   ]
  },
  {
   "cell_type": "code",
   "execution_count": 19,
   "metadata": {},
   "outputs": [],
   "source": [
    "def dense_grad_input(x_input, grad_output, W, b):\n",
    "    \"\"\"Calculate the partial derivative of \n",
    "        the loss with respect to the input of the layer\n",
    "    # Arguments\n",
    "        x_input: input of a dense layer - np.array of size `(n_objects, n_in)`\n",
    "        grad_output: partial derivative of the loss functions with \n",
    "            respect to the ouput of the dense layer \n",
    "            np.array of size `(n_objects, n_out)`\n",
    "        W: np.array of size `(n_in, n_out)`\n",
    "        b: np.array of size `(n_out,)`\n",
    "    # Output\n",
    "        the partial derivative of the loss with \n",
    "        respect to the input of the layer\n",
    "        np.array of size `(n_objects, n_in)`\n",
    "    \"\"\"\n",
    "    grad_input = grad_output.dot(W.T)\n",
    "    return grad_input"
   ]
  },
  {
   "cell_type": "markdown",
   "metadata": {},
   "source": [
    "Now, instead of computing the gradient with respect to the input, we'll calculate the gradient with respect to the weights and to the bias: "
   ]
  },
  {
   "cell_type": "code",
   "execution_count": 20,
   "metadata": {},
   "outputs": [],
   "source": [
    "def dense_grad_W(x_input, grad_output, W, b):\n",
    "    \"\"\"Calculate the partial derivative of \n",
    "        the loss with respect to W parameter of the layer\n",
    "    # Arguments\n",
    "        x_input: input of a dense layer - np.array of size `(n_objects, n_in)`\n",
    "        grad_output: partial derivative of the loss functions with \n",
    "            respect to the ouput of the dense layer \n",
    "            np.array of size `(n_objects, n_out)`\n",
    "        W: np.array of size `(n_in, n_out)`\n",
    "        b: np.array of size `(n_out,)`\n",
    "    # Output\n",
    "        the partial derivative of the loss \n",
    "        with respect to W parameter of the layer\n",
    "        np.array of size `(n_in, n_out)`\n",
    "    \"\"\"\n",
    "    grad_W = x_input.T.dot(grad_output)\n",
    "    return grad_W"
   ]
  },
  {
   "cell_type": "code",
   "execution_count": 21,
   "metadata": {},
   "outputs": [],
   "source": [
    "def dense_grad_b(x_input, grad_output, W, b):\n",
    "    \"\"\"Calculate the partial derivative of \n",
    "        the loss with respect to b parameter of the layer\n",
    "    # Arguments\n",
    "        x_input: input of a dense layer - np.array of size `(n_objects, n_in)`\n",
    "        grad_output: partial derivative of the loss functions with \n",
    "            respect to the ouput of the dense layer \n",
    "            np.array of size `(n_objects, n_out)`\n",
    "        W: np.array of size `(n_in, n_out)`\n",
    "        b: np.array of size `(n_out,)`\n",
    "    # Output\n",
    "        the partial derivative of the loss \n",
    "        with respect to b parameter of the layer\n",
    "        np.array of size `(n_out,)`\n",
    "    \"\"\"\n",
    "    grad_b = grad_output.sum(0)\n",
    "    return grad_b"
   ]
  },
  {
   "cell_type": "markdown",
   "metadata": {},
   "source": [
    "### Dense Layer Class\n",
    "\n",
    "Here, we define a basic class for the dense layer. You will use this in the Experiments sections below. You don't need to know how this works; we implement it for you, but it is based on the functions you've written above. "
   ]
  },
  {
   "cell_type": "code",
   "execution_count": 22,
   "metadata": {},
   "outputs": [],
   "source": [
    "class Layer(object):\n",
    "    \n",
    "    def __init__(self):\n",
    "        self.training_phase = True\n",
    "        self.output = 0.0\n",
    "        \n",
    "    def forward(self, x_input):\n",
    "        self.output = x_input\n",
    "        return self.output\n",
    "    \n",
    "    def backward(self, x_input, grad_output):\n",
    "        return grad_output\n",
    "    \n",
    "    def get_params(self):\n",
    "        return []\n",
    "    \n",
    "    def get_params_gradients(self):\n",
    "        return []"
   ]
  },
  {
   "cell_type": "code",
   "execution_count": 23,
   "metadata": {},
   "outputs": [],
   "source": [
    "class Dense(Layer):\n",
    "    \n",
    "    def __init__(self, n_input, n_output):\n",
    "        super(Dense, self).__init__()\n",
    "        #Randomly initializing the weights from normal distribution\n",
    "        self.W = np.random.normal(scale=0.01, size=(n_input, n_output))\n",
    "        self.grad_W = np.zeros_like(self.W)\n",
    "        #initializing the bias with zero\n",
    "        self.b = np.zeros(n_output)\n",
    "        self.grad_b = np.zeros_like(self.b)\n",
    "      \n",
    "    def forward(self, x_input):\n",
    "        self.output = w2_dense_forward(x_input, self.W, self.b)\n",
    "        return self.output\n",
    "    \n",
    "    def backward(self, x_input, grad_output):\n",
    "        # get gradients of weights\n",
    "        self.grad_W = dense_grad_W(x_input, grad_output, self.W, self.b)\n",
    "        self.grad_b = dense_grad_b(x_input, grad_output, self.W, self.b)\n",
    "        # propagate the gradient backwards\n",
    "        return dense_grad_input(x_input, grad_output, self.W, self.b)\n",
    "    \n",
    "    def get_params(self):\n",
    "        return [self.W, self.b]\n",
    "\n",
    "    def get_params_gradients(self):\n",
    "        return [self.grad_W, self.grad_b]"
   ]
  },
  {
   "cell_type": "code",
   "execution_count": 24,
   "metadata": {},
   "outputs": [
    {
     "name": "stdout",
     "output_type": "stream",
     "text": [
      "[[0.40507456 0.45535592]\n",
      " [0.08922345 0.28716953]\n",
      " [0.70011508 0.84324954]]\n",
      "[[ 0.00406393]\n",
      " [-0.0001556 ]\n",
      " [ 0.00670777]]\n"
     ]
    }
   ],
   "source": [
    "dense_layer = Dense(2, 1)\n",
    "x_input = np.random.random((3, 2))\n",
    "y_output = dense_layer.forward(x_input)\n",
    "print(x_input)\n",
    "print(y_output)"
   ]
  },
  {
   "cell_type": "markdown",
   "metadata": {},
   "source": [
    "## 1.3 ReLU nonlinearity\n",
    "\n",
    "The dense layer, from previous section, is linear. Combinging several linear (dense) layers is always equivalent to a single dense layer. Here is the mathematically proof for this: \n",
    "$$\n",
    "H_1 = XW_1 + b_1\\\\\n",
    "H_2 = H_1W_2 + b_2\\\\\n",
    "H_2 = (XW_1 + b_1)W_2 + b_2 = X(W_1W_2) + (b_1W_2 + b_2) = XW^* + b^*\n",
    "$$\n",
    "\n",
    "\n",
    "For this reason, we also need non-linear layers. Non-linear layers ($f$ in the following) are mostly element-wise and hold the following:\n",
    "$$\n",
    "H_1 = XW_1 + b_1\\\\\n",
    "H_2 = f(H_1)W_2 + b_2\\\\\n",
    "H_2 = f(XW_1 + b_1)W_2 + b_2 \\neq XW^* + b^*\n",
    "$$\n",
    "\n",
    "A popular example of a simple non-linear layer is **ReLU** (Rectified Linear Unit). ReLU doesn't have weights that can be optimized like a dense layer.\n",
    "$$\n",
    "\\text{ReLU}(x) = \\max(0, x)\n",
    "$$\n",
    "\n",
    "<img src=\"./src/relu.png\" width=\"500\">\n",
    "\n",
    "**Example**\n",
    "\n",
    "$$\n",
    "\\text{ReLU} \\Big(\n",
    "\\begin{bmatrix}\n",
    "1 & -0.5 \\\\\n",
    "0.3 & 0.1 \n",
    "\\end{bmatrix}\n",
    "\\Big) = \n",
    "\\begin{bmatrix}\n",
    "1 & 0 \\\\\n",
    "0.3 & 0.1 \n",
    "\\end{bmatrix}\n",
    "$$\n",
    "\n",
    "Next, you will implement the forward pass and backward pass (gradient) for ReLU. "
   ]
  },
  {
   "cell_type": "code",
   "execution_count": 25,
   "metadata": {},
   "outputs": [],
   "source": [
    "def w2_relu_forward(x_input):\n",
    "    \"\"\"relu nonlinearity\n",
    "    # Arguments\n",
    "        x_input: np.array of size `(n_objects, n_in)`\n",
    "    # Output\n",
    "        the output of relu layer\n",
    "        np.array of size `(n_objects, n_in)`\n",
    "    \"\"\"\n",
    "    output = np.maximum(0, x_input)\n",
    "    return output"
   ]
  },
  {
   "cell_type": "code",
   "execution_count": 26,
   "metadata": {},
   "outputs": [
    {
     "name": "stdout",
     "output_type": "stream",
     "text": [
      "[[1.  0. ]\n",
      " [0.3 0.1]]\n"
     ]
    }
   ],
   "source": [
    "#test forward pass for ReLU, see example above\n",
    "x_input = np.array([[1, -0.5],\n",
    "                    [0.3, 0.1]])\n",
    "\n",
    "print(w2_relu_forward(x_input))"
   ]
  },
  {
   "cell_type": "code",
   "execution_count": 28,
   "metadata": {},
   "outputs": [
    {
     "name": "stdout",
     "output_type": "stream",
     "text": [
      "Running local tests...\n",
      "w2_relu_forward successfully passed local tests\n",
      "Running remote test...\n",
      "Test was successful. Congratulations!\n"
     ]
    }
   ],
   "source": [
    "am.test_student_function(username, w2_relu_forward, ['x_input'])"
   ]
  },
  {
   "cell_type": "code",
   "execution_count": 29,
   "metadata": {},
   "outputs": [],
   "source": [
    "def relu_grad_input(x_input, grad_output):\n",
    "    \"\"\"relu nonlinearity gradient. \n",
    "        Calculate the partial derivative of the loss \n",
    "        with respect to the input of the layer\n",
    "    # Arguments\n",
    "        x_input: np.array of size `(n_objects, n_in)`\n",
    "            grad_output: np.array of size `(n_objects, n_in)`\n",
    "    # Output\n",
    "        the partial derivative of the loss \n",
    "        with respect to the input of the layer\n",
    "        np.array of size `(n_objects, n_in)`\n",
    "    \"\"\"\n",
    "    grad_input = grad_output * (x_input > 0)\n",
    "    return grad_input"
   ]
  },
  {
   "cell_type": "code",
   "execution_count": 30,
   "metadata": {},
   "outputs": [],
   "source": [
    "class ReLU(Layer):\n",
    "        \n",
    "    def forward(self, x_input):\n",
    "        self.output = w2_relu_forward(x_input)\n",
    "        return self.output\n",
    "    \n",
    "    def backward(self, x_input, grad_output):\n",
    "        return relu_grad_input(x_input, grad_output)"
   ]
  },
  {
   "cell_type": "markdown",
   "metadata": {},
   "source": [
    "## 1.4 Sigmoid nonlinearity"
   ]
  },
  {
   "cell_type": "code",
   "execution_count": 31,
   "metadata": {},
   "outputs": [],
   "source": [
    "class Sigmoid(Layer):\n",
    "        \n",
    "    def forward(self, x_input):\n",
    "        self.output = blocks.w1_sigmoid_forward(x_input)\n",
    "        return self.output\n",
    "    \n",
    "    def backward(self, x_input, grad_output):\n",
    "        return blocks.w1_sigmoid_grad_input(x_input, grad_output)"
   ]
  },
  {
   "cell_type": "markdown",
   "metadata": {},
   "source": [
    "## 1.5 Sequential model\n",
    "In order to make the work with layers more comfortable, we create `SequentialNN` - a class, which stores all its layers and performs the basic manipulations. Again, this is for the experiments below and you don't need to know how this works. "
   ]
  },
  {
   "cell_type": "code",
   "execution_count": 32,
   "metadata": {},
   "outputs": [],
   "source": [
    "class SequentialNN(object):\n",
    "\n",
    "    def __init__(self, *layers):\n",
    "        self.layers = layers\n",
    "        self.training_phase = True\n",
    "        \n",
    "    def set_training_phase(self, is_training=True):\n",
    "        self.training_phase = is_training\n",
    "        for layer in self.layers:\n",
    "            layer.training_phase = is_training\n",
    "        \n",
    "    def forward(self, x_input):\n",
    "        self.output = x_input\n",
    "        for layer in self.layers:\n",
    "            self.output = layer.forward(self.output)\n",
    "        return self.output\n",
    "    \n",
    "    def backward(self, x_input, grad_output):\n",
    "        inputs = [x_input] + [l.output for l in self.layers[:-1]]\n",
    "        for input_, layer_ in zip(inputs[::-1], self.layers[::-1]):\n",
    "            grad_output = layer_.backward(input_, grad_output)\n",
    "            \n",
    "    def get_params(self):\n",
    "        params = []\n",
    "        for layer in self.layers:\n",
    "            params.extend(layer.get_params())\n",
    "        return params\n",
    "    \n",
    "    def get_params_gradients(self):\n",
    "        grads = []\n",
    "        for layer in self.layers:\n",
    "            grads.extend(layer.get_params_gradients())\n",
    "        return grads"
   ]
  },
  {
   "cell_type": "markdown",
   "metadata": {},
   "source": [
    "Here is the simple neural network. It takes an input of shape `(Any, 10)` and passes it through `Dense(10, 4)`, `ReLU` and `Dense(4, 1)`. The output is a batch of size `(Any, 1)`. \n",
    "```\n",
    "  INPUT\n",
    "    |\n",
    "Dense(10, 4)\n",
    "    |\n",
    "   ReLU\n",
    "    |\n",
    "Dense(4, 1)\n",
    "    |\n",
    "  OUTPUT\n",
    "```"
   ]
  },
  {
   "cell_type": "code",
   "execution_count": 33,
   "metadata": {},
   "outputs": [],
   "source": [
    "nn = SequentialNN(\n",
    "    Dense(10, 4), \n",
    "    ReLU(),\n",
    "    Dense(4, 1),\n",
    "    Sigmoid()\n",
    ")"
   ]
  },
  {
   "cell_type": "code",
   "execution_count": 34,
   "metadata": {},
   "outputs": [
    {
     "ename": "ModuleNotFoundError",
     "evalue": "No module named 'blocks'",
     "output_type": "error",
     "traceback": [
      "\u001b[0;31m---------------------------------------------------------------------------\u001b[0m",
      "\u001b[0;31mModuleNotFoundError\u001b[0m                       Traceback (most recent call last)",
      "\u001b[0;32m/var/folders/4d/_hvc8l4d27x_0_349j1cpw7r0000gn/T/ipykernel_2243/2922988333.py\u001b[0m in \u001b[0;36m<module>\u001b[0;34m\u001b[0m\n\u001b[0;32m----> 1\u001b[0;31m \u001b[0;32mimport\u001b[0m \u001b[0mblocks\u001b[0m\u001b[0;34m\u001b[0m\u001b[0;34m\u001b[0m\u001b[0m\n\u001b[0m\u001b[1;32m      2\u001b[0m \u001b[0mnn\u001b[0m\u001b[0;34m.\u001b[0m\u001b[0mforward\u001b[0m\u001b[0;34m(\u001b[0m\u001b[0mnp\u001b[0m\u001b[0;34m.\u001b[0m\u001b[0mones\u001b[0m\u001b[0;34m(\u001b[0m\u001b[0;34m[\u001b[0m\u001b[0;36m2\u001b[0m\u001b[0;34m,\u001b[0m \u001b[0;36m10\u001b[0m\u001b[0;34m]\u001b[0m\u001b[0;34m)\u001b[0m\u001b[0;34m)\u001b[0m\u001b[0;34m\u001b[0m\u001b[0;34m\u001b[0m\u001b[0m\n",
      "\u001b[0;31mModuleNotFoundError\u001b[0m: No module named 'blocks'"
     ]
    }
   ],
   "source": [
    "import blocks\n",
    "nn.forward(np.ones([2, 10]))"
   ]
  },
  {
   "cell_type": "markdown",
   "metadata": {},
   "source": [
    "## 1.6 NLL loss function\n",
    "Here we will define the loss functions. Each loss should be able to compute its value and compute its gradient with respect to the input. We have implemented these functions (e.g. forward, backward) for you.  "
   ]
  },
  {
   "cell_type": "code",
   "execution_count": 35,
   "metadata": {},
   "outputs": [],
   "source": [
    "class NLL(object):\n",
    "    \n",
    "    def forward(self, target_pred, target_true):\n",
    "        self.output = blocks.w1_nll_forward(target_pred, target_true)\n",
    "        return self.output\n",
    "    \n",
    "    def backward(self, target_pred, target_true):\n",
    "        return blocks.w1_nll_grad_input(target_pred, target_true)"
   ]
  },
  {
   "cell_type": "markdown",
   "metadata": {},
   "source": [
    "## 1.7 $L_2$ regularization\n",
    "\n",
    "Loss functions update the weights of your model to improve your predictions. We do this by minimizing the loss function. However, up until now this loss function did not take into account the complexity of your model. Here we mean with complexity the number of parameters that your model stores. We do want to take complexity into account because complex models can perform poorly on test data, while performing excellent on train data. \n",
    "\n",
    "To penalize the complextity of the model, we introduce a regularizer. You'll learn more about regularizers in the lectures, but the general idea is that we take the values of the weights into account with the loss function. High values for weights are indicators of complexity. \n",
    "\n",
    "There are several ways of adding regularization to a model. We will implement [$L_2$ regularization](http://www.deeplearningbook.org/contents/regularization.html) also known as weight decay:\n",
    "\n",
    "The key idea of $L_2$ regularization is to add an extra term to the loss functions:\n",
    "$$\n",
    "\\mathcal{L}^* = \\mathcal{L} + \\frac{\\lambda}{2} \\|w\\|^2_2\n",
    "$$\n",
    "\n",
    "The part we added to the loss function is called the regularization function. \n",
    "* $\\lambda$ is named weight decay. It is a hyperparameter that determines the influence of the regularization to the outcome of the loss function. \n",
    "* $\\|w\\|^2_2$ is the squared [euclidian norm](https://en.wikipedia.org/wiki/Euclidean_distance) where $\\|w\\|^2_2 = \\|w_1\\|^2_2 + \\|w_2\\|^2_2 ... \\|w_k\\|^2_2$. \n",
    "This function in more detail becomes:\n",
    "\n",
    "$$\n",
    "\\mathcal{L}^* = \\mathcal{L} + \\frac{\\lambda}{2} \\sum\\limits_{m=1}^k \\|w_m\\|^2_2\n",
    "$$\n",
    "\n",
    "Because we use a different loss function, the updating of the weights is also slightly changed: \n",
    "\n",
    "$$\n",
    "w_m \\leftarrow w_m - \\gamma \\frac{\\partial \\mathcal{L}^*}{\\partial w_m}\\\\\n",
    "\\frac{\\partial \\mathcal{L}^*}{\\partial w_m} = \\frac{\\partial \\mathcal{L}}{\\partial w_m} + \\lambda w_m\\\\\n",
    "w_m \\leftarrow w_m - \\gamma \\Big(\\frac{\\partial \\mathcal{L}}{\\partial w_m} + \\lambda w_m\\Big)\n",
    "$$\n",
    "\n",
    "Here, you'll implement the computation of $L_2$: \n",
    "$$\n",
    "L_2(\\lambda, [w_1, w_2, \\dots, w_k]) = \\frac{\\lambda}{2} \\sum\\limits_{m=1}^k \\|w_m\\|^2_2\n",
    "$$ "
   ]
  },
  {
   "cell_type": "code",
   "execution_count": 36,
   "metadata": {},
   "outputs": [],
   "source": [
    "def w2_l2_regularizer(weight_decay, weights):\n",
    "    \"\"\"Compute the L2 regularization term\n",
    "    # Arguments\n",
    "        weight_decay: float\n",
    "        weights: list of arrays of different shapes\n",
    "    # Output\n",
    "        sum of the L2 norms of the input weights\n",
    "        scalar\n",
    "    \"\"\"\n",
    "    \n",
    "    # lambda / 2 * SUM(Wm^2)\n",
    "    l = weight_decay/2\n",
    "    output = l* np.sum(weights**2)\n",
    "    return output"
   ]
  },
  {
   "cell_type": "markdown",
   "metadata": {},
   "source": [
    "You can test your forward pass below. Your output should be: `108.25`"
   ]
  },
  {
   "cell_type": "code",
   "execution_count": 37,
   "metadata": {},
   "outputs": [
    {
     "name": "stdout",
     "output_type": "stream",
     "text": [
      "108.25\n"
     ]
    }
   ],
   "source": [
    "#test the L2 regularizer\n",
    "weight_decay = 2\n",
    "weights = np.array([5,3,7,5,0.5])\n",
    "print(w2_l2_regularizer(weight_decay, weights))"
   ]
  },
  {
   "cell_type": "code",
   "execution_count": 38,
   "metadata": {},
   "outputs": [
    {
     "name": "stdout",
     "output_type": "stream",
     "text": [
      "Running local tests...\n",
      "w2_l2_regularizer successfully passed local tests\n",
      "Running remote test...\n",
      "Test was successful. Congratulations!\n"
     ]
    }
   ],
   "source": [
    "am.test_student_function(username, w2_l2_regularizer, ['weight_decay', 'weights'])"
   ]
  },
  {
   "cell_type": "markdown",
   "metadata": {},
   "source": [
    "## 1.8 SGD optimizer"
   ]
  },
  {
   "cell_type": "code",
   "execution_count": 40,
   "metadata": {},
   "outputs": [],
   "source": [
    "class SGD(object):\n",
    "    '''\n",
    "    Stochastic gradient descent optimizer\n",
    "    https://en.wikipedia.org/wiki/Stochastic_gradient_descent\n",
    "    '''\n",
    "    def __init__(self, model, lr=0.01, weight_decay=0.0):\n",
    "        self.model = model\n",
    "        self.lr = lr\n",
    "        self.weight_decay = weight_decay\n",
    "        \n",
    "    def update_params(self):\n",
    "        weights = self.model.get_params()\n",
    "        grads = self.model.get_params_gradients()\n",
    "        for w, dw in zip(weights, grads):\n",
    "            update = self.lr * (dw + self.weight_decay * w)\n",
    "            # it writes the result to the previous variable instead of copying\n",
    "            np.subtract(w, update, out=w) "
   ]
  },
  {
   "cell_type": "markdown",
   "metadata": {},
   "source": [
    "# 2. Experiments"
   ]
  },
  {
   "cell_type": "code",
   "execution_count": 41,
   "metadata": {},
   "outputs": [],
   "source": [
    "# some function from week 2\n",
    "def generate_2_circles(N=100):\n",
    "    phi = np.linspace(0.0, np.pi * 2, 100)\n",
    "    X1 = 1.1 * np.array([np.sin(phi), np.cos(phi)])\n",
    "    X2 = 3.0 * np.array([np.sin(phi), np.cos(phi)])\n",
    "    Y = np.concatenate([np.ones(N), np.zeros(N)]).reshape((-1, 1))\n",
    "    X = np.hstack([X1,X2]).T\n",
    "    return X, Y\n",
    "\n",
    "\n",
    "def split(X, Y, train_ratio=0.7):\n",
    "    size = len(X)\n",
    "    train_size = int(size * train_ratio)\n",
    "    indices = np.arange(size)\n",
    "    np.random.shuffle(indices)\n",
    "    train_indices = indices[:train_size]\n",
    "    test_indices = indices[train_size:]\n",
    "    return X[train_indices], Y[train_indices], X[test_indices], Y[test_indices]\n",
    "\n",
    "\n",
    "def plot_model_prediction(prediction_func, X, Y, hard=True):\n",
    "    u_min = X[:, 0].min() - 1\n",
    "    u_max = X[:, 0].max() + 1\n",
    "    v_min = X[:, 1].min() - 1\n",
    "    v_max = X[:, 1].max() + 1\n",
    "\n",
    "    U, V = np.meshgrid(np.linspace(u_min, u_max, 100), np.linspace(v_min, v_max, 100))\n",
    "    UV = np.stack([U.ravel(), V.ravel()]).T\n",
    "    c = prediction_func(UV).ravel()\n",
    "    if hard:\n",
    "        c = c > 0.5\n",
    "    plt.scatter(UV[:,0], UV[:,1], c=c, edgecolors= 'none', alpha=0.15)\n",
    "    plt.scatter(X[:,0], X[:,1], c=Y.ravel(), edgecolors= 'black')\n",
    "    plt.xlim(left=u_min, right=u_max)\n",
    "    plt.ylim(bottom=v_min, top=v_max)\n",
    "    plt.axes().set_aspect('equal')\n",
    "    plt.show()"
   ]
  },
  {
   "cell_type": "code",
   "execution_count": 42,
   "metadata": {},
   "outputs": [],
   "source": [
    "X_train, Y_train, X_test, Y_test = split(*generate_2_circles(), 0.7)"
   ]
  },
  {
   "cell_type": "code",
   "execution_count": 43,
   "metadata": {},
   "outputs": [
    {
     "ename": "NameError",
     "evalue": "name 'blocks' is not defined",
     "output_type": "error",
     "traceback": [
      "\u001b[0;31m---------------------------------------------------------------------------\u001b[0m",
      "\u001b[0;31mNameError\u001b[0m                                 Traceback (most recent call last)",
      "\u001b[0;32m/var/folders/4d/_hvc8l4d27x_0_349j1cpw7r0000gn/T/ipykernel_2243/3916345759.py\u001b[0m in \u001b[0;36m<module>\u001b[0;34m\u001b[0m\n\u001b[1;32m     18\u001b[0m \u001b[0;34m\u001b[0m\u001b[0m\n\u001b[1;32m     19\u001b[0m     \u001b[0;31m# compute the loss value + L_2 term\u001b[0m\u001b[0;34m\u001b[0m\u001b[0;34m\u001b[0m\u001b[0m\n\u001b[0;32m---> 20\u001b[0;31m     \u001b[0mloss_value\u001b[0m \u001b[0;34m=\u001b[0m \u001b[0mloss\u001b[0m\u001b[0;34m.\u001b[0m\u001b[0mforward\u001b[0m\u001b[0;34m(\u001b[0m\u001b[0my_pred\u001b[0m\u001b[0;34m,\u001b[0m \u001b[0mY_train\u001b[0m\u001b[0;34m)\u001b[0m \u001b[0;34m+\u001b[0m \u001b[0mw2_l2_regularizer\u001b[0m\u001b[0;34m(\u001b[0m\u001b[0mweight_decay\u001b[0m\u001b[0;34m,\u001b[0m \u001b[0mmodel\u001b[0m\u001b[0;34m.\u001b[0m\u001b[0mget_params\u001b[0m\u001b[0;34m(\u001b[0m\u001b[0;34m)\u001b[0m\u001b[0;34m)\u001b[0m\u001b[0;34m\u001b[0m\u001b[0;34m\u001b[0m\u001b[0m\n\u001b[0m\u001b[1;32m     21\u001b[0m \u001b[0;34m\u001b[0m\u001b[0m\n\u001b[1;32m     22\u001b[0m     \u001b[0;32mif\u001b[0m \u001b[0mi\u001b[0m \u001b[0;34m%\u001b[0m \u001b[0;36m500\u001b[0m \u001b[0;34m==\u001b[0m \u001b[0;36m0\u001b[0m\u001b[0;34m:\u001b[0m\u001b[0;34m\u001b[0m\u001b[0;34m\u001b[0m\u001b[0m\n",
      "\u001b[0;32m/var/folders/4d/_hvc8l4d27x_0_349j1cpw7r0000gn/T/ipykernel_2243/1713983304.py\u001b[0m in \u001b[0;36mforward\u001b[0;34m(self, target_pred, target_true)\u001b[0m\n\u001b[1;32m      2\u001b[0m \u001b[0;34m\u001b[0m\u001b[0m\n\u001b[1;32m      3\u001b[0m     \u001b[0;32mdef\u001b[0m \u001b[0mforward\u001b[0m\u001b[0;34m(\u001b[0m\u001b[0mself\u001b[0m\u001b[0;34m,\u001b[0m \u001b[0mtarget_pred\u001b[0m\u001b[0;34m,\u001b[0m \u001b[0mtarget_true\u001b[0m\u001b[0;34m)\u001b[0m\u001b[0;34m:\u001b[0m\u001b[0;34m\u001b[0m\u001b[0;34m\u001b[0m\u001b[0m\n\u001b[0;32m----> 4\u001b[0;31m         \u001b[0mself\u001b[0m\u001b[0;34m.\u001b[0m\u001b[0moutput\u001b[0m \u001b[0;34m=\u001b[0m \u001b[0mblocks\u001b[0m\u001b[0;34m.\u001b[0m\u001b[0mw1_nll_forward\u001b[0m\u001b[0;34m(\u001b[0m\u001b[0mtarget_pred\u001b[0m\u001b[0;34m,\u001b[0m \u001b[0mtarget_true\u001b[0m\u001b[0;34m)\u001b[0m\u001b[0;34m\u001b[0m\u001b[0;34m\u001b[0m\u001b[0m\n\u001b[0m\u001b[1;32m      5\u001b[0m         \u001b[0;32mreturn\u001b[0m \u001b[0mself\u001b[0m\u001b[0;34m.\u001b[0m\u001b[0moutput\u001b[0m\u001b[0;34m\u001b[0m\u001b[0;34m\u001b[0m\u001b[0m\n\u001b[1;32m      6\u001b[0m \u001b[0;34m\u001b[0m\u001b[0m\n",
      "\u001b[0;31mNameError\u001b[0m: name 'blocks' is not defined"
     ]
    }
   ],
   "source": [
    "##Training the network ##\n",
    "###YOUR CODE FOR DESIGNING THE NETWORK ###\n",
    "model = SequentialNN(\n",
    "    # 2 -> 16 -> 1 With ReLU and Sigmoid where it is required\n",
    ")\n",
    "\n",
    "\n",
    "loss = NLL()\n",
    "weight_decay = 1e-4\n",
    "sgd = SGD(model, lr=0.1, weight_decay=weight_decay)\n",
    "iters = 5000 # Number of times to iterate over all data objects\n",
    "\n",
    "model.set_training_phase(True)\n",
    "\n",
    "for i in range(iters):\n",
    "    # get the predictions\n",
    "    y_pred = model.forward(X_train)\n",
    "    \n",
    "    # compute the loss value + L_2 term\n",
    "    loss_value = loss.forward(y_pred, Y_train) + w2_l2_regularizer(weight_decay, model.get_params())\n",
    "    \n",
    "    if i % 500 == 0:\n",
    "        # log the current loss value\n",
    "        print('Step: {}, \\tLoss = {:.2f}'.format(i, loss_value))\n",
    "    \n",
    "    # get the gradient of the loss functions\n",
    "    loss_grad = loss.backward(y_pred, Y_train)\n",
    "\n",
    "    # backprop the gradients\n",
    "    model.backward(X_train, loss_grad)\n",
    "    \n",
    "    # perform the updates\n",
    "    sgd.update_params()"
   ]
  },
  {
   "cell_type": "code",
   "execution_count": 44,
   "metadata": {},
   "outputs": [
    {
     "ename": "ValueError",
     "evalue": "'c' argument has 20000 elements, which is inconsistent with 'x' and 'y' with size 10000.",
     "output_type": "error",
     "traceback": [
      "\u001b[0;31m---------------------------------------------------------------------------\u001b[0m",
      "\u001b[0;31mValueError\u001b[0m                                Traceback (most recent call last)",
      "\u001b[0;32m~/opt/anaconda3/lib/python3.9/site-packages/matplotlib/axes/_axes.py\u001b[0m in \u001b[0;36m_parse_scatter_color_args\u001b[0;34m(c, edgecolors, kwargs, xsize, get_next_color_func)\u001b[0m\n\u001b[1;32m   4213\u001b[0m             \u001b[0;32mtry\u001b[0m\u001b[0;34m:\u001b[0m  \u001b[0;31m# Is 'c' acceptable as PathCollection facecolors?\u001b[0m\u001b[0;34m\u001b[0m\u001b[0;34m\u001b[0m\u001b[0m\n\u001b[0;32m-> 4214\u001b[0;31m                 \u001b[0mcolors\u001b[0m \u001b[0;34m=\u001b[0m \u001b[0mmcolors\u001b[0m\u001b[0;34m.\u001b[0m\u001b[0mto_rgba_array\u001b[0m\u001b[0;34m(\u001b[0m\u001b[0mc\u001b[0m\u001b[0;34m)\u001b[0m\u001b[0;34m\u001b[0m\u001b[0;34m\u001b[0m\u001b[0m\n\u001b[0m\u001b[1;32m   4215\u001b[0m             \u001b[0;32mexcept\u001b[0m \u001b[0;34m(\u001b[0m\u001b[0mTypeError\u001b[0m\u001b[0;34m,\u001b[0m \u001b[0mValueError\u001b[0m\u001b[0;34m)\u001b[0m \u001b[0;32mas\u001b[0m \u001b[0merr\u001b[0m\u001b[0;34m:\u001b[0m\u001b[0;34m\u001b[0m\u001b[0;34m\u001b[0m\u001b[0m\n",
      "\u001b[0;32m~/opt/anaconda3/lib/python3.9/site-packages/matplotlib/colors.py\u001b[0m in \u001b[0;36mto_rgba_array\u001b[0;34m(c, alpha)\u001b[0m\n\u001b[1;32m    376\u001b[0m     \u001b[0;32melse\u001b[0m\u001b[0;34m:\u001b[0m\u001b[0;34m\u001b[0m\u001b[0;34m\u001b[0m\u001b[0m\n\u001b[0;32m--> 377\u001b[0;31m         \u001b[0mrgba\u001b[0m \u001b[0;34m=\u001b[0m \u001b[0mnp\u001b[0m\u001b[0;34m.\u001b[0m\u001b[0marray\u001b[0m\u001b[0;34m(\u001b[0m\u001b[0;34m[\u001b[0m\u001b[0mto_rgba\u001b[0m\u001b[0;34m(\u001b[0m\u001b[0mcc\u001b[0m\u001b[0;34m)\u001b[0m \u001b[0;32mfor\u001b[0m \u001b[0mcc\u001b[0m \u001b[0;32min\u001b[0m \u001b[0mc\u001b[0m\u001b[0;34m]\u001b[0m\u001b[0;34m)\u001b[0m\u001b[0;34m\u001b[0m\u001b[0;34m\u001b[0m\u001b[0m\n\u001b[0m\u001b[1;32m    378\u001b[0m \u001b[0;34m\u001b[0m\u001b[0m\n",
      "\u001b[0;32m~/opt/anaconda3/lib/python3.9/site-packages/matplotlib/colors.py\u001b[0m in \u001b[0;36m<listcomp>\u001b[0;34m(.0)\u001b[0m\n\u001b[1;32m    376\u001b[0m     \u001b[0;32melse\u001b[0m\u001b[0;34m:\u001b[0m\u001b[0;34m\u001b[0m\u001b[0;34m\u001b[0m\u001b[0m\n\u001b[0;32m--> 377\u001b[0;31m         \u001b[0mrgba\u001b[0m \u001b[0;34m=\u001b[0m \u001b[0mnp\u001b[0m\u001b[0;34m.\u001b[0m\u001b[0marray\u001b[0m\u001b[0;34m(\u001b[0m\u001b[0;34m[\u001b[0m\u001b[0mto_rgba\u001b[0m\u001b[0;34m(\u001b[0m\u001b[0mcc\u001b[0m\u001b[0;34m)\u001b[0m \u001b[0;32mfor\u001b[0m \u001b[0mcc\u001b[0m \u001b[0;32min\u001b[0m \u001b[0mc\u001b[0m\u001b[0;34m]\u001b[0m\u001b[0;34m)\u001b[0m\u001b[0;34m\u001b[0m\u001b[0;34m\u001b[0m\u001b[0m\n\u001b[0m\u001b[1;32m    378\u001b[0m \u001b[0;34m\u001b[0m\u001b[0m\n",
      "\u001b[0;32m~/opt/anaconda3/lib/python3.9/site-packages/matplotlib/colors.py\u001b[0m in \u001b[0;36mto_rgba\u001b[0;34m(c, alpha)\u001b[0m\n\u001b[1;32m    186\u001b[0m     \u001b[0;32mif\u001b[0m \u001b[0mrgba\u001b[0m \u001b[0;32mis\u001b[0m \u001b[0;32mNone\u001b[0m\u001b[0;34m:\u001b[0m  \u001b[0;31m# Suppress exception chaining of cache lookup failure.\u001b[0m\u001b[0;34m\u001b[0m\u001b[0;34m\u001b[0m\u001b[0m\n\u001b[0;32m--> 187\u001b[0;31m         \u001b[0mrgba\u001b[0m \u001b[0;34m=\u001b[0m \u001b[0m_to_rgba_no_colorcycle\u001b[0m\u001b[0;34m(\u001b[0m\u001b[0mc\u001b[0m\u001b[0;34m,\u001b[0m \u001b[0malpha\u001b[0m\u001b[0;34m)\u001b[0m\u001b[0;34m\u001b[0m\u001b[0;34m\u001b[0m\u001b[0m\n\u001b[0m\u001b[1;32m    188\u001b[0m         \u001b[0;32mtry\u001b[0m\u001b[0;34m:\u001b[0m\u001b[0;34m\u001b[0m\u001b[0;34m\u001b[0m\u001b[0m\n",
      "\u001b[0;32m~/opt/anaconda3/lib/python3.9/site-packages/matplotlib/colors.py\u001b[0m in \u001b[0;36m_to_rgba_no_colorcycle\u001b[0;34m(c, alpha)\u001b[0m\n\u001b[1;32m    268\u001b[0m     \u001b[0;32mif\u001b[0m \u001b[0;32mnot\u001b[0m \u001b[0mnp\u001b[0m\u001b[0;34m.\u001b[0m\u001b[0miterable\u001b[0m\u001b[0;34m(\u001b[0m\u001b[0mc\u001b[0m\u001b[0;34m)\u001b[0m\u001b[0;34m:\u001b[0m\u001b[0;34m\u001b[0m\u001b[0;34m\u001b[0m\u001b[0m\n\u001b[0;32m--> 269\u001b[0;31m         \u001b[0;32mraise\u001b[0m \u001b[0mValueError\u001b[0m\u001b[0;34m(\u001b[0m\u001b[0;34mf\"Invalid RGBA argument: {orig_c!r}\"\u001b[0m\u001b[0;34m)\u001b[0m\u001b[0;34m\u001b[0m\u001b[0;34m\u001b[0m\u001b[0m\n\u001b[0m\u001b[1;32m    270\u001b[0m     \u001b[0;32mif\u001b[0m \u001b[0mlen\u001b[0m\u001b[0;34m(\u001b[0m\u001b[0mc\u001b[0m\u001b[0;34m)\u001b[0m \u001b[0;32mnot\u001b[0m \u001b[0;32min\u001b[0m \u001b[0;34m[\u001b[0m\u001b[0;36m3\u001b[0m\u001b[0;34m,\u001b[0m \u001b[0;36m4\u001b[0m\u001b[0;34m]\u001b[0m\u001b[0;34m:\u001b[0m\u001b[0;34m\u001b[0m\u001b[0;34m\u001b[0m\u001b[0m\n",
      "\u001b[0;31mValueError\u001b[0m: Invalid RGBA argument: 0.0",
      "\nThe above exception was the direct cause of the following exception:\n",
      "\u001b[0;31mValueError\u001b[0m                                Traceback (most recent call last)",
      "\u001b[0;32m/var/folders/4d/_hvc8l4d27x_0_349j1cpw7r0000gn/T/ipykernel_2243/1732350570.py\u001b[0m in \u001b[0;36m<module>\u001b[0;34m\u001b[0m\n\u001b[0;32m----> 1\u001b[0;31m \u001b[0mplot_model_prediction\u001b[0m\u001b[0;34m(\u001b[0m\u001b[0;32mlambda\u001b[0m \u001b[0mx\u001b[0m\u001b[0;34m:\u001b[0m \u001b[0mmodel\u001b[0m\u001b[0;34m.\u001b[0m\u001b[0mforward\u001b[0m\u001b[0;34m(\u001b[0m\u001b[0mx\u001b[0m\u001b[0;34m)\u001b[0m\u001b[0;34m,\u001b[0m \u001b[0mX_test\u001b[0m\u001b[0;34m,\u001b[0m \u001b[0mY_test\u001b[0m\u001b[0;34m)\u001b[0m\u001b[0;34m\u001b[0m\u001b[0;34m\u001b[0m\u001b[0m\n\u001b[0m",
      "\u001b[0;32m/var/folders/4d/_hvc8l4d27x_0_349j1cpw7r0000gn/T/ipykernel_2243/3792977838.py\u001b[0m in \u001b[0;36mplot_model_prediction\u001b[0;34m(prediction_func, X, Y, hard)\u001b[0m\n\u001b[1;32m     30\u001b[0m     \u001b[0;32mif\u001b[0m \u001b[0mhard\u001b[0m\u001b[0;34m:\u001b[0m\u001b[0;34m\u001b[0m\u001b[0;34m\u001b[0m\u001b[0m\n\u001b[1;32m     31\u001b[0m         \u001b[0mc\u001b[0m \u001b[0;34m=\u001b[0m \u001b[0mc\u001b[0m \u001b[0;34m>\u001b[0m \u001b[0;36m0.5\u001b[0m\u001b[0;34m\u001b[0m\u001b[0;34m\u001b[0m\u001b[0m\n\u001b[0;32m---> 32\u001b[0;31m     \u001b[0mplt\u001b[0m\u001b[0;34m.\u001b[0m\u001b[0mscatter\u001b[0m\u001b[0;34m(\u001b[0m\u001b[0mUV\u001b[0m\u001b[0;34m[\u001b[0m\u001b[0;34m:\u001b[0m\u001b[0;34m,\u001b[0m\u001b[0;36m0\u001b[0m\u001b[0;34m]\u001b[0m\u001b[0;34m,\u001b[0m \u001b[0mUV\u001b[0m\u001b[0;34m[\u001b[0m\u001b[0;34m:\u001b[0m\u001b[0;34m,\u001b[0m\u001b[0;36m1\u001b[0m\u001b[0;34m]\u001b[0m\u001b[0;34m,\u001b[0m \u001b[0mc\u001b[0m\u001b[0;34m=\u001b[0m\u001b[0mc\u001b[0m\u001b[0;34m,\u001b[0m \u001b[0medgecolors\u001b[0m\u001b[0;34m=\u001b[0m \u001b[0;34m'none'\u001b[0m\u001b[0;34m,\u001b[0m \u001b[0malpha\u001b[0m\u001b[0;34m=\u001b[0m\u001b[0;36m0.15\u001b[0m\u001b[0;34m)\u001b[0m\u001b[0;34m\u001b[0m\u001b[0;34m\u001b[0m\u001b[0m\n\u001b[0m\u001b[1;32m     33\u001b[0m     \u001b[0mplt\u001b[0m\u001b[0;34m.\u001b[0m\u001b[0mscatter\u001b[0m\u001b[0;34m(\u001b[0m\u001b[0mX\u001b[0m\u001b[0;34m[\u001b[0m\u001b[0;34m:\u001b[0m\u001b[0;34m,\u001b[0m\u001b[0;36m0\u001b[0m\u001b[0;34m]\u001b[0m\u001b[0;34m,\u001b[0m \u001b[0mX\u001b[0m\u001b[0;34m[\u001b[0m\u001b[0;34m:\u001b[0m\u001b[0;34m,\u001b[0m\u001b[0;36m1\u001b[0m\u001b[0;34m]\u001b[0m\u001b[0;34m,\u001b[0m \u001b[0mc\u001b[0m\u001b[0;34m=\u001b[0m\u001b[0mY\u001b[0m\u001b[0;34m.\u001b[0m\u001b[0mravel\u001b[0m\u001b[0;34m(\u001b[0m\u001b[0;34m)\u001b[0m\u001b[0;34m,\u001b[0m \u001b[0medgecolors\u001b[0m\u001b[0;34m=\u001b[0m \u001b[0;34m'black'\u001b[0m\u001b[0;34m)\u001b[0m\u001b[0;34m\u001b[0m\u001b[0;34m\u001b[0m\u001b[0m\n\u001b[1;32m     34\u001b[0m     \u001b[0mplt\u001b[0m\u001b[0;34m.\u001b[0m\u001b[0mxlim\u001b[0m\u001b[0;34m(\u001b[0m\u001b[0mleft\u001b[0m\u001b[0;34m=\u001b[0m\u001b[0mu_min\u001b[0m\u001b[0;34m,\u001b[0m \u001b[0mright\u001b[0m\u001b[0;34m=\u001b[0m\u001b[0mu_max\u001b[0m\u001b[0;34m)\u001b[0m\u001b[0;34m\u001b[0m\u001b[0;34m\u001b[0m\u001b[0m\n",
      "\u001b[0;32m~/opt/anaconda3/lib/python3.9/site-packages/matplotlib/pyplot.py\u001b[0m in \u001b[0;36mscatter\u001b[0;34m(x, y, s, c, marker, cmap, norm, vmin, vmax, alpha, linewidths, edgecolors, plotnonfinite, data, **kwargs)\u001b[0m\n\u001b[1;32m   2817\u001b[0m         \u001b[0mvmin\u001b[0m\u001b[0;34m=\u001b[0m\u001b[0;32mNone\u001b[0m\u001b[0;34m,\u001b[0m \u001b[0mvmax\u001b[0m\u001b[0;34m=\u001b[0m\u001b[0;32mNone\u001b[0m\u001b[0;34m,\u001b[0m \u001b[0malpha\u001b[0m\u001b[0;34m=\u001b[0m\u001b[0;32mNone\u001b[0m\u001b[0;34m,\u001b[0m \u001b[0mlinewidths\u001b[0m\u001b[0;34m=\u001b[0m\u001b[0;32mNone\u001b[0m\u001b[0;34m,\u001b[0m \u001b[0;34m*\u001b[0m\u001b[0;34m,\u001b[0m\u001b[0;34m\u001b[0m\u001b[0;34m\u001b[0m\u001b[0m\n\u001b[1;32m   2818\u001b[0m         edgecolors=None, plotnonfinite=False, data=None, **kwargs):\n\u001b[0;32m-> 2819\u001b[0;31m     __ret = gca().scatter(\n\u001b[0m\u001b[1;32m   2820\u001b[0m         \u001b[0mx\u001b[0m\u001b[0;34m,\u001b[0m \u001b[0my\u001b[0m\u001b[0;34m,\u001b[0m \u001b[0ms\u001b[0m\u001b[0;34m=\u001b[0m\u001b[0ms\u001b[0m\u001b[0;34m,\u001b[0m \u001b[0mc\u001b[0m\u001b[0;34m=\u001b[0m\u001b[0mc\u001b[0m\u001b[0;34m,\u001b[0m \u001b[0mmarker\u001b[0m\u001b[0;34m=\u001b[0m\u001b[0mmarker\u001b[0m\u001b[0;34m,\u001b[0m \u001b[0mcmap\u001b[0m\u001b[0;34m=\u001b[0m\u001b[0mcmap\u001b[0m\u001b[0;34m,\u001b[0m \u001b[0mnorm\u001b[0m\u001b[0;34m=\u001b[0m\u001b[0mnorm\u001b[0m\u001b[0;34m,\u001b[0m\u001b[0;34m\u001b[0m\u001b[0;34m\u001b[0m\u001b[0m\n\u001b[1;32m   2821\u001b[0m         \u001b[0mvmin\u001b[0m\u001b[0;34m=\u001b[0m\u001b[0mvmin\u001b[0m\u001b[0;34m,\u001b[0m \u001b[0mvmax\u001b[0m\u001b[0;34m=\u001b[0m\u001b[0mvmax\u001b[0m\u001b[0;34m,\u001b[0m \u001b[0malpha\u001b[0m\u001b[0;34m=\u001b[0m\u001b[0malpha\u001b[0m\u001b[0;34m,\u001b[0m \u001b[0mlinewidths\u001b[0m\u001b[0;34m=\u001b[0m\u001b[0mlinewidths\u001b[0m\u001b[0;34m,\u001b[0m\u001b[0;34m\u001b[0m\u001b[0;34m\u001b[0m\u001b[0m\n",
      "\u001b[0;32m~/opt/anaconda3/lib/python3.9/site-packages/matplotlib/__init__.py\u001b[0m in \u001b[0;36minner\u001b[0;34m(ax, data, *args, **kwargs)\u001b[0m\n\u001b[1;32m   1410\u001b[0m     \u001b[0;32mdef\u001b[0m \u001b[0minner\u001b[0m\u001b[0;34m(\u001b[0m\u001b[0max\u001b[0m\u001b[0;34m,\u001b[0m \u001b[0;34m*\u001b[0m\u001b[0margs\u001b[0m\u001b[0;34m,\u001b[0m \u001b[0mdata\u001b[0m\u001b[0;34m=\u001b[0m\u001b[0;32mNone\u001b[0m\u001b[0;34m,\u001b[0m \u001b[0;34m**\u001b[0m\u001b[0mkwargs\u001b[0m\u001b[0;34m)\u001b[0m\u001b[0;34m:\u001b[0m\u001b[0;34m\u001b[0m\u001b[0;34m\u001b[0m\u001b[0m\n\u001b[1;32m   1411\u001b[0m         \u001b[0;32mif\u001b[0m \u001b[0mdata\u001b[0m \u001b[0;32mis\u001b[0m \u001b[0;32mNone\u001b[0m\u001b[0;34m:\u001b[0m\u001b[0;34m\u001b[0m\u001b[0;34m\u001b[0m\u001b[0m\n\u001b[0;32m-> 1412\u001b[0;31m             \u001b[0;32mreturn\u001b[0m \u001b[0mfunc\u001b[0m\u001b[0;34m(\u001b[0m\u001b[0max\u001b[0m\u001b[0;34m,\u001b[0m \u001b[0;34m*\u001b[0m\u001b[0mmap\u001b[0m\u001b[0;34m(\u001b[0m\u001b[0msanitize_sequence\u001b[0m\u001b[0;34m,\u001b[0m \u001b[0margs\u001b[0m\u001b[0;34m)\u001b[0m\u001b[0;34m,\u001b[0m \u001b[0;34m**\u001b[0m\u001b[0mkwargs\u001b[0m\u001b[0;34m)\u001b[0m\u001b[0;34m\u001b[0m\u001b[0;34m\u001b[0m\u001b[0m\n\u001b[0m\u001b[1;32m   1413\u001b[0m \u001b[0;34m\u001b[0m\u001b[0m\n\u001b[1;32m   1414\u001b[0m         \u001b[0mbound\u001b[0m \u001b[0;34m=\u001b[0m \u001b[0mnew_sig\u001b[0m\u001b[0;34m.\u001b[0m\u001b[0mbind\u001b[0m\u001b[0;34m(\u001b[0m\u001b[0max\u001b[0m\u001b[0;34m,\u001b[0m \u001b[0;34m*\u001b[0m\u001b[0margs\u001b[0m\u001b[0;34m,\u001b[0m \u001b[0;34m**\u001b[0m\u001b[0mkwargs\u001b[0m\u001b[0;34m)\u001b[0m\u001b[0;34m\u001b[0m\u001b[0;34m\u001b[0m\u001b[0m\n",
      "\u001b[0;32m~/opt/anaconda3/lib/python3.9/site-packages/matplotlib/axes/_axes.py\u001b[0m in \u001b[0;36mscatter\u001b[0;34m(self, x, y, s, c, marker, cmap, norm, vmin, vmax, alpha, linewidths, edgecolors, plotnonfinite, **kwargs)\u001b[0m\n\u001b[1;32m   4378\u001b[0m             \u001b[0morig_edgecolor\u001b[0m \u001b[0;34m=\u001b[0m \u001b[0mkwargs\u001b[0m\u001b[0;34m.\u001b[0m\u001b[0mget\u001b[0m\u001b[0;34m(\u001b[0m\u001b[0;34m'edgecolor'\u001b[0m\u001b[0;34m,\u001b[0m \u001b[0;32mNone\u001b[0m\u001b[0;34m)\u001b[0m\u001b[0;34m\u001b[0m\u001b[0;34m\u001b[0m\u001b[0m\n\u001b[1;32m   4379\u001b[0m         \u001b[0mc\u001b[0m\u001b[0;34m,\u001b[0m \u001b[0mcolors\u001b[0m\u001b[0;34m,\u001b[0m \u001b[0medgecolors\u001b[0m \u001b[0;34m=\u001b[0m\u001b[0;31m \u001b[0m\u001b[0;31m\\\u001b[0m\u001b[0;34m\u001b[0m\u001b[0;34m\u001b[0m\u001b[0m\n\u001b[0;32m-> 4380\u001b[0;31m             self._parse_scatter_color_args(\n\u001b[0m\u001b[1;32m   4381\u001b[0m                 \u001b[0mc\u001b[0m\u001b[0;34m,\u001b[0m \u001b[0medgecolors\u001b[0m\u001b[0;34m,\u001b[0m \u001b[0mkwargs\u001b[0m\u001b[0;34m,\u001b[0m \u001b[0mx\u001b[0m\u001b[0;34m.\u001b[0m\u001b[0msize\u001b[0m\u001b[0;34m,\u001b[0m\u001b[0;34m\u001b[0m\u001b[0;34m\u001b[0m\u001b[0m\n\u001b[1;32m   4382\u001b[0m                 get_next_color_func=self._get_patches_for_fill.get_next_color)\n",
      "\u001b[0;32m~/opt/anaconda3/lib/python3.9/site-packages/matplotlib/axes/_axes.py\u001b[0m in \u001b[0;36m_parse_scatter_color_args\u001b[0;34m(c, edgecolors, kwargs, xsize, get_next_color_func)\u001b[0m\n\u001b[1;32m   4218\u001b[0m                 \u001b[0;32melse\u001b[0m\u001b[0;34m:\u001b[0m\u001b[0;34m\u001b[0m\u001b[0;34m\u001b[0m\u001b[0m\n\u001b[1;32m   4219\u001b[0m                     \u001b[0;32mif\u001b[0m \u001b[0;32mnot\u001b[0m \u001b[0mvalid_shape\u001b[0m\u001b[0;34m:\u001b[0m\u001b[0;34m\u001b[0m\u001b[0;34m\u001b[0m\u001b[0m\n\u001b[0;32m-> 4220\u001b[0;31m                         \u001b[0;32mraise\u001b[0m \u001b[0minvalid_shape_exception\u001b[0m\u001b[0;34m(\u001b[0m\u001b[0mc\u001b[0m\u001b[0;34m.\u001b[0m\u001b[0msize\u001b[0m\u001b[0;34m,\u001b[0m \u001b[0mxsize\u001b[0m\u001b[0;34m)\u001b[0m \u001b[0;32mfrom\u001b[0m \u001b[0merr\u001b[0m\u001b[0;34m\u001b[0m\u001b[0;34m\u001b[0m\u001b[0m\n\u001b[0m\u001b[1;32m   4221\u001b[0m                     \u001b[0;31m# Both the mapping *and* the RGBA conversion failed: pretty\u001b[0m\u001b[0;34m\u001b[0m\u001b[0;34m\u001b[0m\u001b[0m\n\u001b[1;32m   4222\u001b[0m                     \u001b[0;31m# severe failure => one may appreciate a verbose feedback.\u001b[0m\u001b[0;34m\u001b[0m\u001b[0;34m\u001b[0m\u001b[0m\n",
      "\u001b[0;31mValueError\u001b[0m: 'c' argument has 20000 elements, which is inconsistent with 'x' and 'y' with size 10000."
     ]
    },
    {
     "data": {
      "image/png": "[encoded data removed]",
      "text/plain": [
       "<Figure size 640x480 with 1 Axes>"
      ]
     },
     "metadata": {},
     "output_type": "display_data"
    }
   ],
   "source": [
    "plot_model_prediction(lambda x: model.forward(x), X_test, Y_test)"
   ]
  },
  {
   "cell_type": "markdown",
   "metadata": {},
   "source": [
    "# 3. Convolutions\n",
    "## 3.1 Matrix convolution\n",
    "\n",
    "\n",
    "There is a way to create a **locally connected** layer which will learn local correlations using a smaller amount of parameters.  \n",
    "This layer is aptly called **Convolutional Layer** and is based on **matrix convolution**"
   ]
  },
  {
   "cell_type": "markdown",
   "metadata": {},
   "source": [
    "A picture is worth a thousand words which is especially true when learning about convolution:\n",
    "![Image convolution](./src/conv.png)"
   ]
  },
  {
   "cell_type": "markdown",
   "metadata": {},
   "source": [
    "In image convolution, a **filter**, also called **kernel**, is applied to the source matrix.  \n",
    "Each element from the kernel is multiplied by the corresponding element from the source matrix. The results are summed up and written to the target matrix.\n",
    "\n",
    "In this example, the output matrix has a smaller size than its source\\*. This is because the kernel can not overlap the borders. **Zero padding** can be used to retain the original dimension. It is a simple solution which involves adding a border of zeros to the input.\n",
    "\n",
    "\\* It may seem both matrices have the same size (both are shown with the same number of boxes. In the edges of the right matrix, however, no values are stored. The top-left corner of the right image starts where the $-3$ is placed.\n",
    "\n",
    "The source matrix $X$ is of size $N \\times M$ and the kernel $K$ is of size $(2p+1) \\times (2q +1 )$.  \n",
    "We define $X_{ij} = 0$ for $i > N, i < 1$ and $j > M, j < 1$.  \n",
    "In (other) words: If you try to access a pixel which is out of bounds assume that it is zero.  \n",
    "This is called **zero padding**.\n",
    "\n",
    "Therefore, the convolution of a matrix with a kernel is defined as follows:\n",
    "$$\n",
    "Y = X \\star K \\\\\n",
    "Y_{ij} = \\sum\\limits_{\\alpha=0}^{2p} \\sum\\limits_{\\beta=0}^{2q}\n",
    "K_{\\alpha \\beta} X_{i + \\alpha - p, j+\\beta - q}\n",
    "$$\n",
    "\n",
    "This operation's name depends on the field:\n",
    "* In machine learning: **convolution**\n",
    "* In mathematics: **cross-correlation**"
   ]
  },
  {
   "cell_type": "markdown",
   "metadata": {},
   "source": [
    "Finally, its time for you to implement matrix convolution.  \n",
    "You can use the example below this code block to test your implementation."
   ]
  },
  {
   "cell_type": "code",
   "execution_count": 45,
   "metadata": {},
   "outputs": [],
   "source": [
    "from scipy.ndimage import convolve\n",
    "from scipy.signal import convolve2d\n",
    "\n",
    "def w2_conv_matrix(matrix, kernel):\n",
    "    \"\"\"Perform the convolution of the matrix \n",
    "        with the kernel using zero padding\n",
    "    # Arguments\n",
    "        matrix: input matrix np.array of size `(N, M)`\n",
    "        kernel: kernel of the convolution \n",
    "            np.array of size `(2p + 1, 2q + 1)`\n",
    "    # Output\n",
    "        the result of the convolution\n",
    "        np.array of size `(N, M)`\n",
    "    \"\"\"\n",
    "    p = int((kernel.shape[0]-1)/2)\n",
    "    q = int((kernel.shape[1]-1)/2)\n",
    "    matrix_padded = np.pad(matrix, pad_width=1, mode='constant', constant_values=0)\n",
    "    output = np.zeros(matrix.shape)\n",
    "    print(matrix)\n",
    "    print(kernel)\n",
    "    \n",
    "#     print(np.shape(matrix[0]))\n",
    "#     output = convolve2d(matrix, kernel, mode='same', boundary='symm', fillvalue=0)\n",
    "#     output = np.zeros(matrix.shape)\n",
    "    \n",
    "    for row in np.arange(matrix.shape[0])+1:\n",
    "        for col in np.arange(matrix.shape[1])+1:\n",
    "            output[row-1,col-1] = np.sum(matrix_padded[row-p:row+p+1,col-q:col+q+1]*kernel)\n",
    "\n",
    "    return output"
   ]
  },
  {
   "cell_type": "markdown",
   "metadata": {},
   "source": [
    "Let's test the function with the following data:\n",
    "\n",
    "$$\n",
    "X = \\begin{bmatrix}\n",
    "1 & 2 & 3 \\\\\n",
    "2 & 3 & 4 \\\\\n",
    "3 & 4 & 5 \\\\\n",
    "\\end{bmatrix} \\quad\n",
    "K = \n",
    "\\begin{bmatrix}\n",
    "1 & 0 & 0 \\\\\n",
    "0 & 1 & 0 \\\\\n",
    "0 & 0 & 2 \\\\\n",
    "\\end{bmatrix} \\quad \n",
    "X \\star K = \n",
    "\\begin{bmatrix}\n",
    "7 & 10 & 3 \\\\\n",
    "10 & 14 & 6 \\\\\n",
    "3 & 6 & 8 \\\\\n",
    "\\end{bmatrix}\n",
    "$$\n",
    "\n",
    "We recreate the example data in Python to perform a local test run.  \n",
    "Don't be confused by [np.eye](https://docs.scipy.org/doc/numpy-1.13.0/reference/generated/numpy.eye.html). It fills our kernel matrix with ones on the diagonal from top-left to bottom-right."
   ]
  },
  {
   "cell_type": "code",
   "execution_count": 46,
   "metadata": {},
   "outputs": [
    {
     "name": "stdout",
     "output_type": "stream",
     "text": [
      "[0. 0. 0.]\n",
      "[[1. 0. 0.]\n",
      " [0. 1. 0.]\n",
      " [0. 0. 2.]]\n"
     ]
    }
   ],
   "source": [
    "X = np.array([\n",
    "    [1, 2, 3],\n",
    "    [2, 3, 4],\n",
    "    [3, 4, 5]\n",
    "])\n",
    "\n",
    "K = np.eye(3)\n",
    "K[-1, -1] = 2\n",
    "print(np.zeros(3))\n",
    "print(K)"
   ]
  },
  {
   "cell_type": "markdown",
   "metadata": {},
   "source": [
    "Run the following code block and compare the result with the example above."
   ]
  },
  {
   "cell_type": "code",
   "execution_count": 162,
   "metadata": {},
   "outputs": [
    {
     "name": "stdout",
     "output_type": "stream",
     "text": [
      "[[1 2 3]\n",
      " [2 3 4]\n",
      " [3 4 5]]\n",
      "[[1. 0. 0.]\n",
      " [0. 1. 0.]\n",
      " [0. 0. 2.]]\n",
      "[[ 7. 10.  3.]\n",
      " [10. 14.  6.]\n",
      " [ 3.  6.  8.]]\n"
     ]
    }
   ],
   "source": [
    "print(w2_conv_matrix(X, K))"
   ]
  },
  {
   "cell_type": "code",
   "execution_count": 47,
   "metadata": {},
   "outputs": [
    {
     "name": "stdout",
     "output_type": "stream",
     "text": [
      "Running local tests...\n",
      "[[-5.72493868 -4.76247838  1.23172107]]\n",
      "[[2.75794952 9.87710383 2.69786182]]\n",
      "[[-1.09768969 -6.6000898 ]\n",
      " [-5.06251084  5.35743117]\n",
      " [ 5.57762331 -6.34704366]]\n",
      "[[5.36805201]]\n",
      "[[ 4.10555881  2.90137722]\n",
      " [ 9.69550642  2.77071018]\n",
      " [ 2.88957741 -3.02466859]]\n",
      "[[5.99332631]]\n",
      "[[-4.83854301 -9.29749559 -1.56907451 -5.79287082]\n",
      " [ 1.84833758  7.80985079 -1.68692926  4.61142057]\n",
      " [ 9.60113368  7.05712783 -2.38998137 -5.99506301]]\n",
      "[[-5.57010674 -0.30497358  1.22403577]]\n",
      "[[ 0.18933606 -6.56946797  2.72579562]\n",
      " [-5.49908103 -1.02452992  8.31103089]\n",
      " [-6.64464594 -6.75503113  3.12544866]]\n",
      "[[ 2.50226855]\n",
      " [-6.76975821]\n",
      " [ 9.96232081]]\n",
      "[[ 9.89615002  7.10194468]\n",
      " [-9.36207106  0.26751394]\n",
      " [-2.88941236 -7.84519387]\n",
      " [-6.77694409 -1.66465192]]\n",
      "[[ 5.81440546]\n",
      " [-5.04787221]\n",
      " [ 7.07641464]]\n",
      "[[ 8.31169341  4.47378013  3.83479627 -0.5413163 ]\n",
      " [-4.6671478  -8.48097369 -5.62920934 -7.33580995]\n",
      " [-7.62688549 -1.24633195  7.12102046 -5.51594263]]\n",
      "[[-3.02333281 -7.01409629  5.23012817]]\n",
      "[[ 8.56382177 -2.301554  ]\n",
      " [ 7.10241317  1.436841  ]\n",
      " [ 1.36531605 -1.46393375]\n",
      " [-9.06114323  6.76904108]]\n",
      "[[-8.84932968]\n",
      " [-7.49854184]\n",
      " [ 8.33310154]]\n",
      "[[-6.07795394  7.0129757  -8.48497219]\n",
      " [-5.09091251 -2.7108882   6.27984597]\n",
      " [ 1.73504194  1.95034623  9.99133487]]\n",
      "[[ 1.93761384  4.97748514  0.54205386]\n",
      " [ 7.72721976 -6.69215773 -8.55809334]\n",
      " [ 3.06944852  8.11551686 -4.08718639]]\n",
      "[[-0.73342633  9.47314936 -7.68189543]\n",
      " [-7.48829801  6.39280941  0.15343685]]\n",
      "[[-0.59615966]]\n",
      "[[-6.38060432 -6.0398243  -9.67172603  4.71088891 -0.11150542]\n",
      " [-3.13490112 -3.15417234 -4.37433552  9.00538254  3.95152563]\n",
      " [ 4.90781842 -9.31611724 -8.76471657  3.93320449 -6.66932155]\n",
      " [-1.45446493  8.12377261  7.61533641 -3.2595355   4.47666307]]\n",
      "[[-2.62630779  7.60480023 -4.18337219]\n",
      " [ 0.14049376 -1.75911079  2.62019093]\n",
      " [ 1.08523864 -9.83672893  9.95789788]]\n",
      "[[ 6.31182184 -2.29290009  5.6498842  -0.85208598 -5.73575953]\n",
      " [ 4.25571159 -8.20485498 -3.02549635  2.9575685  -1.7503076 ]\n",
      " [ 2.92908111  2.77509104  7.90130721  3.67402223  6.55280928]\n",
      " [ 5.85615623  6.37820212 -9.49923849 -0.66660583  0.8695815 ]]\n",
      "[[-0.02809898 -4.79155817 -9.13754068]\n",
      " [ 0.6271373  -2.71436632  5.5105127 ]\n",
      " [ 8.13326731  0.32607779 -4.77817135]]\n",
      "[[ 0.98757261  5.41756232 -3.71171063]\n",
      " [ 0.10241728  4.45312723  8.78417585]\n",
      " [-8.21356098 -0.50768635  4.62882453]]\n",
      "[[ 4.02846111 -0.59171613  0.01637875]]\n",
      "[[-9.28270702 -9.89078518 -4.40448482]\n",
      " [ 6.88514588  0.98059865 -8.73980534]\n",
      " [ 9.12920393 -8.98447502  9.3765735 ]\n",
      " [ 0.84461314 -6.76056178  3.08460312]]\n",
      "[[-1.65886639 -0.66225972  3.55226051]\n",
      " [-7.58317092  9.30427564  7.17144028]\n",
      " [ 6.88125093  9.11542201 -6.6508198 ]]\n",
      "[[-5.27291159 -2.07937321 -0.32188343 -8.13973443]\n",
      " [ 6.6698576   5.91036638 -6.75667025  4.42103112]\n",
      " [-0.43218696 -9.79942292  7.67649222  0.67186489]]\n",
      "[[-0.38217737 -9.01380446  3.72086043]\n",
      " [ 7.75688527  7.85232162  3.63132439]\n",
      " [ 1.43637133  9.29466734 -4.20853809]]\n",
      "[[-0.84419913]\n",
      " [-5.96851745]\n",
      " [-6.97593131]]\n",
      "[[5.0248001]]\n",
      "[[-6.54308826 -2.96160316 -5.20119941 -4.63140548]\n",
      " [ 5.26620378  8.85635909  8.47248662 -1.65618329]\n",
      " [-3.26495242 -3.53907222  3.02963543  2.87743564]]\n",
      "[[-3.22418798 -7.91519847  3.57853352]]\n",
      "[[ 3.90874366  9.86195658 -2.21533419 -2.22074713]\n",
      " [-2.70967543  5.38149741 -9.1766757  -4.08067678]\n",
      " [ 2.51709281 -4.71540078  1.49970629  9.29740382]]\n",
      "[[-4.59160576  2.0231219  -1.81829414]]\n",
      "[[ 4.27445282 -1.11548671 -2.28617764 -4.26013702  1.68577383]]\n",
      "[[-3.40051231 -2.67223429  4.10965562]]\n",
      "[[ 1.45804334 -3.69400364]\n",
      " [ 1.99863889  1.74830892]\n",
      " [ 6.89398299  5.68260856]]\n",
      "[[ 3.57668216]\n",
      " [-9.38564572]\n",
      " [-9.24237848]]\n",
      "[[-1.60411953 -6.14303431  2.44285795]\n",
      " [-9.13418265  8.498607    7.68297683]\n",
      " [-7.98001494  8.04840332 -8.6123458 ]\n",
      " [ 0.78165176 -6.61111657  7.91366546]\n",
      " [-8.81146036 -3.77368071 -8.10094612]]\n",
      "[[-9.55642433  1.7678891   9.33951108]\n",
      " [-8.69564542 -4.5433378   1.79244576]\n",
      " [-2.35310832 -1.70176377 -3.08598924]]\n",
      "[[-2.86260371  0.88917468 -7.36152152 -1.1764921   3.20290252]\n",
      " [ 2.27329963  3.56823451  6.18981509  7.22916702 -4.90786895]\n",
      " [ 5.37723585  9.53972387 -0.51634331 -1.07681915  1.11018648]\n",
      " [ 3.16194703  3.83141734 -0.98251651  7.53489903  6.20805657]]\n",
      "[[ 3.43243573  9.44595178  8.14974365]\n",
      " [ 1.25431762 -8.8054087   2.7707811 ]\n",
      " [ 4.05088245  6.64015992  7.54749164]]\n",
      "[[-2.37731282  5.99552794  6.01354379 -2.42357799]\n",
      " [ 8.71523867 -0.88133156 -4.97761218  5.80238679]\n",
      " [-1.28971616 -4.71755028  0.39775781 -0.22494117]\n",
      " [ 9.33821832  7.95711345 -8.62542183  6.30419764]]\n",
      "[[ 8.3897307  -4.04992748 -5.00723103]\n",
      " [ 3.18231658 -9.52487713 -0.42107695]\n",
      " [ 3.24933646 -1.44502801 -6.35493016]]\n",
      "[[6.01550775]]\n",
      "[[-9.05224122]]\n",
      "[[ 1.37155228 -8.48331147  2.4458202   1.71927312]\n",
      " [ 4.99983442 -7.68764122  0.19623485 -7.63166787]]\n",
      "[[ 1.46819281  6.98601942 -3.21570364]]\n",
      "[[-7.17938064  0.89745663]\n",
      " [-7.18788864 -9.60207309]\n",
      " [ 3.96635568  1.29944088]]\n",
      "[[-9.58296689]\n",
      " [-4.25649617]\n",
      " [-8.72359413]]\n",
      "[[ 2.49563136  1.63157402 -5.34110108]\n",
      " [-3.9485133   9.69472541 -5.08726148]\n",
      " [-0.0631394   3.26634414 -6.38260581]]\n",
      "[[-0.87677178  2.78461136  4.87536968]\n",
      " [-8.61188969 -7.73926604 -3.82219622]\n",
      " [ 7.12093875 -5.6245964  -4.08000516]]\n",
      "[[-2.95102836  0.21277359]\n",
      " [-3.77273151  2.90270349]\n",
      " [-1.90010971 -4.25136084]]\n",
      "[[-1.43231571]\n",
      " [ 3.47306617]\n",
      " [-6.44534628]]\n",
      "[[-2.68004501  3.70631115]\n",
      " [ 4.82440915  0.01393835]\n",
      " [ 3.04934759  5.54975882]]\n",
      "[[3.7432544]]\n",
      "[[-4.30969943 -1.08208651  3.36036357  8.38477601 -5.27086143]\n",
      " [-5.08365093  0.85257281 -3.59404568  2.25923541  4.22658115]]\n",
      "[[-6.92092283  3.17356413 -0.80131618]]\n",
      "[[-8.31565684]\n",
      " [ 4.38985624]\n",
      " [ 7.04783406]\n",
      " [-0.70189691]]\n",
      "[[9.86451146]\n",
      " [9.5327872 ]\n",
      " [0.79976939]]\n",
      "[[ 3.74271572 -4.10885627  1.71687124]\n",
      " [ 2.2670107  -2.42067322 -5.4641364 ]\n",
      " [ 7.02396313  0.10575983 -2.63319156]]\n",
      "[[ 6.4853239  -6.49466712  4.62480982]]\n",
      "[[-3.81556688 -0.70410547  7.46032996  7.00231726 -8.70991297]\n",
      " [ 6.94024756 -1.88104507  6.65372432 -5.05799489 -6.69967057]\n",
      " [-4.19776363 -4.15879126  5.63031942 -2.77784743 -8.84341979]]\n",
      "[[ 2.44642453 -3.56692765 -2.15868142]]\n",
      "[[8.03480267]]\n",
      "[[-9.60127716]]\n",
      "[[-2.41156962  6.83784923 -6.85930296]\n",
      " [ 8.40204615  6.70712898 -1.6779843 ]\n",
      " [-8.13780331 -5.85595378  8.7306881 ]\n",
      " [-7.32001259  6.65602781 -0.39953146]\n",
      " [ 2.18909111  3.49697222  6.22930488]]\n",
      "[[ 8.7074677 ]\n",
      " [-2.6592452 ]\n",
      " [-1.59480227]]\n",
      "[[3.30542158]\n",
      " [4.88505101]]\n",
      "[[9.10330604]]\n",
      "[[ 5.402601  ]\n",
      " [-6.35421889]\n",
      " [-5.27758031]]\n",
      "[[-0.26750521]\n",
      " [ 9.2114854 ]\n",
      " [-8.91850611]]\n",
      "[[ 9.7970438  -5.65104314  8.23302819]\n",
      " [ 2.67948357 -0.73982788 -1.61011072]\n",
      " [-7.96885478 -8.29401737 -6.97618136]]\n",
      "[[0.37099068]]\n",
      "[[ 5.60471999 -6.40510803 -4.60197195 -6.862148   -0.2609893 ]\n",
      " [ 0.126451   -6.07932984 -2.57320441  4.0677876  -4.66786664]\n",
      " [-6.85301399  2.22705079 -7.29832185  9.97647303  9.19973356]]\n",
      "[[6.86842019 7.17204949 3.75932149]]\n",
      "[[-8.63528635 -8.05045853  4.30371092]\n",
      " [ 2.20295073  3.38852316  4.66007755]]\n",
      "[[3.87294159 0.66188211 6.18729546]]\n",
      "[[ 3.17371648  7.89929221  6.94384942 -3.23581177 -9.93438749]]\n",
      "[[ 3.4345598  -5.90153358 -2.03241299]]\n",
      "[[-3.13517166]\n",
      " [-0.86744279]]\n",
      "[[2.13951102]]\n",
      "[[-2.54282803 -7.83049775 -6.10350447  1.71445617  9.09499787]\n",
      " [-7.03648069 -7.05197925  2.80377627  0.29960414 -9.32680939]\n",
      " [-4.02730841 -1.39006674  8.01393272 -7.45275588 -0.02030784]]\n",
      "[[-3.76109203 -1.87998563 -0.57543206]\n",
      " [ 8.64718084 -2.43224327 -6.56147612]\n",
      " [-8.64809271 -6.30037231 -7.869889  ]]\n",
      "[[ 5.31331084 -0.16614522  2.60509359  2.4499261   4.01019972]\n",
      " [-7.32876958 -4.72312239 -7.04010306 -5.58689735  5.87055539]\n",
      " [-6.23672839  9.96097389 -0.72761229  6.87234587  7.51684358]\n",
      " [ 9.87703306 -7.27403216 -7.92152447  7.02008833  5.99157222]]\n",
      "[[ 2.98414155 -6.64610948 -0.44697728]\n",
      " [ 5.81912933 -8.76286189 -6.00889671]\n",
      " [ 2.98255072  3.0256084  -5.0798701 ]]\n",
      "[[-4.04620571  2.35903541 -0.66590243]\n",
      " [-5.65059162 -3.55078626 -8.67668844]\n",
      " [ 9.6598979   1.42657673 -9.44300416]\n",
      " [ 3.20274633  4.802861   -6.46098384]]\n",
      "[[-8.22166484 -6.52254344  6.3148084 ]\n",
      " [ 9.80724739 -6.36392958 -8.73438711]\n",
      " [-6.37162687 -4.06279281  9.08470267]]\n",
      "[[-2.21816142 -9.51885307 -2.71911777  3.26792701]]\n",
      "[[ 3.0181592  -8.20519292 -5.72014127]]\n",
      "[[-0.55608905]\n",
      " [ 1.37137295]\n",
      " [ 6.37504025]\n",
      " [ 1.68142449]]\n",
      "[[ 4.37180981]\n",
      " [ 5.92294033]\n",
      " [-5.1804183 ]]\n",
      "[[-6.07611357]\n",
      " [ 8.7830881 ]\n",
      " [ 5.70328038]]\n",
      "[[-4.65685251]]\n",
      "[[-9.53636127]\n",
      " [ 1.1677617 ]\n",
      " [ 6.16480719]\n",
      " [ 8.79098108]\n",
      " [ 9.82998966]]\n",
      "[[-8.79145062]\n",
      " [-7.47195461]\n",
      " [ 7.02394007]]\n",
      "[[ 2.01745543 -6.72369743 -0.64232443  0.93080109]\n",
      " [ 3.3411209   0.32391851  5.89404848 -4.03121884]\n",
      " [-0.03832024  5.47999737  2.89988895  9.49570628]\n",
      " [-8.73025596  1.87333127 -1.18101851 -9.5647383 ]]\n",
      "[[ 6.67193651 -5.75353032  6.17259581]\n",
      " [ 5.47220886 -4.34110309 -2.18077686]\n",
      " [-2.84107996  4.94279121  0.94125829]]\n",
      "[[-6.06646827 -3.90554272]\n",
      " [ 2.60376949  2.8559267 ]]\n",
      "[[-8.33445986]]\n",
      "[[0.56028151]]\n",
      "[[0.92187053]]\n",
      "[[-4.97293389 -6.27116154  2.17778679  6.13099215 -8.55337826]\n",
      " [-8.91104389  8.24292202 -0.72800714 -6.164038   -4.29312948]\n",
      " [ 9.68232024  0.57343012  7.12833539 -5.17173345 -8.2881007 ]]\n",
      "[[-4.27546357  9.85718582  4.83195261]\n",
      " [ 0.84752646 -6.11889282 -3.23327122]\n",
      " [ 0.14940429 -4.44030931 -6.4740149 ]]\n",
      "[[-4.40351498 -3.98875136]\n",
      " [-9.98490202  7.45157607]]\n",
      "[[4.73389084]]\n",
      "[[ 4.21144304]\n",
      " [ 1.10186606]\n",
      " [ 1.60456674]\n",
      " [-0.23009604]]\n",
      "[[-1.49401099]\n",
      " [-5.63380267]\n",
      " [ 0.8966878 ]]\n",
      "[[-4.56960108 -4.27807642]]\n",
      "[[-8.72445101]]\n",
      "[[-1.80345574]\n",
      " [-7.38667643]\n",
      " [ 1.71965848]\n",
      " [-0.52668713]]\n",
      "[[-0.18817003]\n",
      " [-4.93195003]\n",
      " [-4.8005138 ]]\n",
      "[[-4.16123989  5.50096343]\n",
      " [-4.35994596 -9.81478704]\n",
      " [-5.69778879  4.9260868 ]]\n",
      "[[-0.17056954]\n",
      " [ 1.17933356]\n",
      " [ 6.6084588 ]]\n",
      "[[-9.97698576  2.41109145  6.95442173]]\n",
      "[[-7.09046816  7.86287146  5.99045681]]\n",
      "[[ 7.29113287  7.38491357 -5.91819059  5.60167701]]\n",
      "[[ 2.00901314 -7.63378742 -1.29432091]]\n",
      "[[ 8.54825061 -2.18080315  6.51248445]\n",
      " [-2.84922172 -0.6249443  -2.77006854]]\n",
      "[[-2.04875958]]\n",
      "[[-1.71996124  2.7128837   0.6878548 ]\n",
      " [-1.03330062 -6.13172424 -2.13571721]]\n",
      "[[-2.55391934]]\n",
      "[[ 5.69901167 -2.07355703 -4.66887013]\n",
      " [-0.77779757  5.10094785  2.84423709]\n",
      " [-0.94557872 -7.03255043 -0.25029575]\n",
      " [-9.62915875 -1.20421284 -9.13577574]]\n",
      "[[ 7.01321413  3.3639674  -8.46252662]\n",
      " [-4.54452206 -7.56622426 -7.42969584]\n",
      " [ 3.81957397  5.35443236 -2.7699695 ]]\n",
      "[[ 3.24998457 -5.65129744 -8.39004353]\n",
      " [-3.78495289 -5.65898859  9.09690186]\n",
      " [-7.14625644 -8.09019536  0.15242367]\n",
      " [-6.78333433  7.09851728  1.36486387]\n",
      " [-5.91115143  2.75378314  1.23464957]]\n",
      "[[ 3.97284446 -7.64435021 -2.25315164]\n",
      " [ 9.35271903 -6.70290629 -7.68631884]\n",
      " [-0.18800519  5.79597106 -0.02948736]]\n",
      "[[ 6.91934205  5.67186532 -5.41540976 -7.04239223]\n",
      " [ 3.74345553  2.74492653 -9.43084208  9.51660982]\n",
      " [-2.94159594  5.93427809  2.54922003  9.72581082]]\n",
      "[[-1.17776623 -8.43259573 -6.60767757]\n",
      " [ 6.97893309  9.75741406 -7.94832608]\n",
      " [-4.23683039  6.04894902 -7.94182469]]\n",
      "[[-5.10090209  1.25465301  6.32694915]\n",
      " [-4.40649016 -9.47206575 -1.21584141]\n",
      " [ 8.3811836  -7.5992437  -9.40574724]]\n",
      "[[-7.35715744]\n",
      " [-0.74370158]\n",
      " [-3.89669477]]\n",
      "[[ 4.17066235  8.13849069  0.01314293  8.69454357]\n",
      " [ 4.85080889  1.37025455  7.70415576  6.9575496 ]\n",
      " [ 8.10925615 -7.59723607 -4.52263767 -3.4946324 ]]\n",
      "[[-2.23729446 -0.47393006 -5.44850026]]\n",
      "[[-8.84032979 -4.67302329]\n",
      " [-2.5587464  -0.62494708]\n",
      " [ 6.49284699  9.09035044]\n",
      " [ 1.11611878 -3.42601111]\n",
      " [ 1.35985615 -6.77669144]]\n",
      "[[-0.25058793]\n",
      " [ 8.56958539]\n",
      " [-3.63906851]]\n",
      "[[ 4.67143998 -2.81572746  7.71020267 -8.58781723  9.70313776]\n",
      " [ 5.06845292  8.62980702 -8.16267116 -9.15739896  8.09309606]\n",
      " [-4.72580756 -5.41152695  3.77087235  8.87463505 -4.93362535]]\n",
      "[[ 2.28084627 -8.274728   -2.04047837]]\n",
      "[[ 3.52516146]\n",
      " [-2.65196517]\n",
      " [ 8.51186064]\n",
      " [-0.28242472]\n",
      " [ 2.28868755]]\n",
      "[[-8.19823925]\n",
      " [ 0.38985634]\n",
      " [-6.43910164]]\n",
      "[[-6.95100882  3.74982576  9.4350845 ]\n",
      " [ 5.03065562 -7.7449371  -5.85774305]\n",
      " [-0.78123512  5.97374541 -3.44884977]]\n",
      "[[ 9.96178444  0.76403677 -9.9544913 ]\n",
      " [ 6.9194906  -0.91923034  9.21611425]\n",
      " [ 3.59249074 -5.50047339 -4.50160673]]\n",
      "[[ 5.23967137  4.76223973  5.40043862]\n",
      " [-3.61473517 -6.96962976 -9.99155909]\n",
      " [ 0.76026274  7.77417706  5.96224661]]\n",
      "[[ 5.17701886]\n",
      " [ 5.7906413 ]\n",
      " [-3.41859911]]\n",
      "[[ 5.554108   -1.24378337 -3.04652715]\n",
      " [-6.55873675  3.79793053 -5.71123476]\n",
      " [-3.32431316  5.21630335 -8.23201905]\n",
      " [-8.23217079 -1.96195202 -0.15565346]\n",
      " [-5.31022384  7.41947425  0.92476975]]\n",
      "[[-0.21079678]\n",
      " [-0.26516115]\n",
      " [-5.5569699 ]]\n",
      "[[-5.69258258 -6.88303194  6.97574439 -1.02866196 -4.44099288]\n",
      " [ 9.15523163 -2.87924121  7.48770562  6.8998728   0.17772457]\n",
      " [-6.20053858  1.26028503  7.26240732 -3.11340204  6.78862177]\n",
      " [ 3.5289331  -1.53968782 -3.43201679  4.27916788  5.29968509]]\n",
      "[[-2.11417368  1.95850293  5.67708006]\n",
      " [ 8.83309444 -3.2565249   9.1642909 ]\n",
      " [ 1.25992136 -3.65840706  7.84552432]]\n",
      "[[ 7.74596696  4.04528661  5.9612843   2.04218201]\n",
      " [ 2.56050315  0.48445098  8.04789232  1.46578303]\n",
      " [ 2.95876233 -4.74848538 -4.53960185 -0.20949743]\n",
      " [ 9.96224523  4.59088303 -7.52459866  0.64645307]\n",
      " [-4.0701631   1.51892803 -4.45130056 -6.55730083]]\n",
      "[[ 1.99258247 -4.17377952  6.83325913]\n",
      " [ 7.65707639  9.93756296  3.54127075]\n",
      " [ 2.55417339 -8.12771545 -5.825903  ]]\n",
      "[[4.78559363 7.68678272 4.53914866]]\n",
      "[[ 7.29521328  5.6110173  -5.75116268]]\n",
      "[[-2.58861252  0.68495341 -7.40898239]\n",
      " [-5.17460572  0.22185192 -9.82840833]\n",
      " [-0.45409678  5.53000261  6.17396289]]\n",
      "[[-9.29830247 -6.74567581  0.10910696]\n",
      " [ 8.65177987  9.43163886  4.13957706]\n",
      " [ 3.19962323  8.68186131 -4.72889669]]\n",
      "[[ 9.10281405 -1.77768517  0.55586129]\n",
      " [ 1.8978434  -8.46545568  2.91097281]]\n",
      "[[-7.61805326  4.5116062  -7.21630193]]\n",
      "[[-1.25598923  1.85693988  1.39762711]\n",
      " [ 6.73946831  7.31772643 -0.71803779]\n",
      " [-5.54703987 -1.67172604 -9.08007111]]\n",
      "[[ 6.36738896 -2.35628962  4.86003268]\n",
      " [-9.16555744  0.09158368  0.69865519]\n",
      " [-3.83227073  7.98982404 -3.98700212]]\n",
      "[[-3.67849076  5.79174816  4.8999904  -5.38001666]\n",
      " [-2.83178535  9.43162704 -5.64264452 -1.57114797]]\n",
      "[[ 5.73363967  5.53729812 -4.37907652]]\n",
      "[[ 4.68946914 -1.00667503]\n",
      " [-0.953938   -6.84970053]\n",
      " [ 5.36629282  9.78198468]]\n",
      "[[-7.30677297]]\n",
      "[[-9.50945094 -9.4128525 ]\n",
      " [ 9.07286477  0.24428323]\n",
      " [ 0.4726368  -0.87608584]]\n",
      "[[8.38593368]]\n",
      "[[-4.49594608  6.22904675  8.48534111  2.96127553]\n",
      " [-2.33715482 -7.93974307 -1.3136829   8.05250246]\n",
      " [ 4.59913873  3.90178296  1.14806765 -5.59838214]]\n",
      "[[-8.13430244  3.49670723 -6.73066175]\n",
      " [ 9.50418033 -3.7270577   7.90405673]\n",
      " [-9.51021385  7.08694549  2.60181987]]\n",
      "[[ 6.22952263 -7.68400323  5.43027147]\n",
      " [ 5.56179427 -5.87285366 -1.06538617]\n",
      " [-7.62135587 -7.16482269 -6.90818835]]\n",
      "[[9.6246021 ]\n",
      " [5.82835116]\n",
      " [4.56902773]]\n",
      "[[ 8.4636132   1.25785052 -5.03455432 -7.86985745]\n",
      " [-2.27288657  2.03555961 -3.71184205 -9.06125215]\n",
      " [ 6.01716224 -7.28503637 -6.49657534 -0.69110281]\n",
      " [-4.17278253 -5.55049574 -8.39561204 -4.18125142]\n",
      " [ 1.66350799 -0.15577819 -5.70603663 -4.58021   ]]\n",
      "[[ 6.22562241  4.00778879  4.34775561]\n",
      " [ 9.52167438 -9.40315475 -2.81899544]\n",
      " [ 9.77093325  3.16527725  8.66591251]]\n",
      "[[ 0.50967944 -9.61186654]\n",
      " [ 1.23383624  2.5699438 ]\n",
      " [-6.42583055  6.7099286 ]\n",
      " [ 5.0746674   7.54206999]]\n",
      "[[ 8.60244205]\n",
      " [-3.73289479]\n",
      " [-8.63061836]]\n",
      "[[ 8.67224168 -7.6857543 ]\n",
      " [-3.78816056 -6.16318933]\n",
      " [ 3.24344793  4.53316269]\n",
      " [-2.77991783 -3.3969182 ]]\n",
      "[[8.36435193]\n",
      " [4.63737287]\n",
      " [6.43985654]]\n",
      "[[-6.56944499 -4.18958592  4.73471104 -4.39829117]\n",
      " [ 1.72907232  2.33172617  4.4039695   9.70104832]\n",
      " [ 7.82152911 -0.0633915   3.71238987  4.79511588]\n",
      " [-5.5290932   3.64542289  6.16713069 -7.05317096]\n",
      " [-2.36139075 -2.54491786  7.99215744  5.89902105]]\n",
      "[[ 7.01778017 -0.68544959  6.18759388]\n",
      " [ 6.78199641 -4.63959309  6.48380305]\n",
      " [ 0.41928114  6.0883398  -1.11683491]]\n",
      "[[-0.47182194 -8.15954854]]\n",
      "[[-1.82074794]]\n",
      "[[2.72210172]\n",
      " [1.64902202]]\n",
      "[[-5.21885355]]\n",
      "[[ 2.74837012]\n",
      " [-5.92309129]]\n",
      "[[-9.02494964]]\n",
      "[[ 7.99464972  1.57908413  9.89586806]\n",
      " [ 1.33336447  9.54972326  4.25973303]\n",
      " [-0.34175305 -5.99180593  5.14349276]]\n",
      "[[-5.17428974  3.034726    1.76470828]]\n",
      "[[ 9.65807473  3.05049235  0.06100207  3.55778394]\n",
      " [-1.54706321  9.62582764 -0.58256962 -2.26532922]]\n",
      "[[-1.00900207 -4.23046158 -8.95458012]]\n",
      "[[-3.95644711]\n",
      " [ 3.85709913]\n",
      " [ 0.3790275 ]\n",
      " [ 3.66279489]\n",
      " [-5.65669329]]\n",
      "[[-9.39329269]\n",
      " [ 8.54607656]\n",
      " [-8.13899537]]\n",
      "[[ 3.94537766 -3.0972398   6.70743317  6.84484306  4.76800597]\n",
      " [-0.93116903  4.79358116  0.07712565 -3.86811353  3.01864416]\n",
      " [-7.89398917 -5.28585622 -8.4225718  -4.27415964  5.40047857]]\n",
      "[[-3.52804688 -6.59215244 -7.83861952]]\n",
      "[[-6.21141991  6.25129793  7.30251618 -8.6302075 ]\n",
      " [-2.24527371 -2.60539853  9.16825103 -0.62816051]\n",
      " [ 5.90381797  1.57277206  4.26842756  9.11419576]\n",
      " [ 1.26559351  9.25269428 -1.56572224  6.38862875]\n",
      " [ 9.53329666 -0.72151508  1.3913374   8.83477309]]\n",
      "[[ 7.35365344 -1.98741531  4.54814029]\n",
      " [-7.93022059 -2.97396314 -3.53148348]\n",
      " [-5.09151434  1.9647008   3.67485466]]\n",
      "[[2.66090494]]\n",
      "[[3.19913147]]\n",
      "[[-2.12978897 -8.03483124  0.56335069 -0.04870208]\n",
      " [-0.70953994  1.07739144 -6.47278254 -4.9763791 ]\n",
      " [-4.15822062 -3.85982155  2.18897572  2.42451723]\n",
      " [ 7.09350621 -4.18712524  4.01173458 -2.19370922]\n",
      " [-9.09280846 -6.94836594  6.60546593 -6.55318665]]\n",
      "[[ 8.93873618  4.8956239   2.79390039]\n",
      " [-3.96814189  1.08735886 -9.56722019]\n",
      " [ 0.28683397 -0.86663726  4.44517469]]\n",
      "[[-9.20366307 -7.85593383]\n",
      " [-4.9892555   1.48967202]]\n",
      "[[9.03835061]]\n",
      "[[-2.68409477  6.07026842  8.49583897]\n",
      " [ 4.23411478 -5.84624551  6.50516527]]\n",
      "[[-1.01614142 -6.796168   -2.77311058]]\n",
      "w2_conv_matrix successfully passed local tests\n",
      "Running remote test...\n"
     ]
    },
    {
     "name": "stdout",
     "output_type": "stream",
     "text": [
      "[[ 7.6058882   9.32792581 -3.91875298 -5.81960072]\n",
      " [ 5.62485616  7.83393346  2.29949441  3.90738806]\n",
      " [-8.72398372  1.42619639 -9.59320258  8.79183239]]\n",
      "[[-9.13082663  4.82153173  7.12283995]\n",
      " [-3.4608633   9.47396176 -5.30040665]\n",
      " [-3.21193896 -0.77487187  2.55353874]]\n",
      "Test was successful. Congratulations!\n"
     ]
    }
   ],
   "source": [
    "am.test_student_function(username, w2_conv_matrix, ['matrix', 'kernel'])"
   ]
  },
  {
   "cell_type": "markdown",
   "metadata": {},
   "source": [
    "## 3.2 Basic kernels\n",
    "\n",
    "Matrix convolution can be used to process an image (think Instagram): blur, shift, detecting edges, and much more.  \n",
    "This [article](http://setosa.io/ev/image-kernels/) (**recommended read**) about image kernels should give you a better understanding of convolutions. It happens to be interactive as well.\n",
    "\n",
    "In convolutional layers, the kernels are learned by training on the dataset. However, there are predefined kernels, for example used on your Instagram photos. Some examples are:\n",
    "\n",
    "**Sharpen Kernel:** \n",
    "$$ \n",
    "\\begin{equation*}\n",
    "\\begin{bmatrix}\n",
    "0 & -1 & 0 \\\\\n",
    "-1 & 5 & -1 \\\\\n",
    "0 & -1 & 0 \n",
    "\\end {bmatrix}\n",
    "\\end{equation*}\n",
    "$$\n",
    "\n",
    "**Edge detection filter:**\n",
    "$$\n",
    "\\begin{equation*}\n",
    "\\begin{bmatrix}\n",
    "-1 & -1 & -1 \\\\\n",
    "-1 & 8 & -1 \\\\\n",
    "-1 & -1 & -1 \n",
    "\\end {bmatrix}\n",
    "\\end{equation*}\n",
    "$$\n",
    "\n",
    "**Box blur of size 3:**\n",
    "$$ \\frac{1}{9}\n",
    "\\begin{equation*}\n",
    "\\begin{bmatrix}\n",
    "1 & 1 & 1 \\\\\n",
    "1 & 1 & 1 \\\\\n",
    "1 & 1 & 1 \n",
    "\\end {bmatrix}\n",
    "\\end{equation*}\n",
    "$$\n",
    "\n",
    "Let's play with convolutions by manipulating an image of a dog."
   ]
  },
  {
   "cell_type": "code",
   "execution_count": 48,
   "metadata": {},
   "outputs": [
    {
     "data": {
      "text/plain": [
       "<matplotlib.image.AxesImage at 0x7fc72f287fd0>"
      ]
     },
     "execution_count": 48,
     "metadata": {},
     "output_type": "execute_result"
    },
    {
     "data": {
      "image/png": "[encoded data removed]",
      "text/plain": [
       "<Figure size 640x480 with 1 Axes>"
      ]
     },
     "metadata": {},
     "output_type": "display_data"
    }
   ],
   "source": [
    "rgb_img = plt.imread('./images/dog.png')\n",
    "plt.imshow(rgb_img)"
   ]
  },
  {
   "cell_type": "markdown",
   "metadata": {},
   "source": [
    "Coloured images would require a 3-dimensional tensor to represent RGB (red, green, and blue).  \n",
    "Therefore, we will convert it to grayscale. This way it can be processed as a matrix."
   ]
  },
  {
   "cell_type": "code",
   "execution_count": 49,
   "metadata": {},
   "outputs": [
    {
     "data": {
      "text/plain": [
       "<matplotlib.image.AxesImage at 0x7fc72f297340>"
      ]
     },
     "execution_count": 49,
     "metadata": {},
     "output_type": "execute_result"
    },
    {
     "data": {
      "image/png": "[encoded data removed]",
      "text/plain": [
       "<Figure size 640x480 with 1 Axes>"
      ]
     },
     "metadata": {},
     "output_type": "display_data"
    }
   ],
   "source": [
    "img = rgb_img.mean(axis=2)\n",
    "plt.imshow(img, cmap='gray')"
   ]
  },
  {
   "cell_type": "markdown",
   "metadata": {},
   "source": [
    "First of all, let's blur the image with [box blur](https://en.wikipedia.org/wiki/Box_blur). It is just a convolution of a matrix with the kernel of size $N \\times N$ of the following form:\n",
    "\n",
    "$$\n",
    "\\frac{1}{N^2}\n",
    "\\begin{bmatrix}\n",
    "1 & \\dots  & 1\\\\\n",
    "\\vdots & \\ddots & \\vdots\\\\\n",
    "1 & \\dots  & 1\\\\\n",
    "\\end{bmatrix}\n",
    "$$\n",
    "\n",
    "Every element of this filter is *one* and we divide the sum by the total amount of elements in the blur filter. You could understand it as taking the average of an image region.\n",
    "\n",
    "**Description:**  \n",
    "Perform the blur of the image.\n",
    "\n",
    "<u>Arguments:</u>\n",
    "* `image` - Input matrix - [np.array](https://docs.scipy.org/doc/numpy-1.13.0/reference/generated/numpy.array.html) of size `(N, M)`\n",
    "* `box_size` - Size of the blur kernel - `int > 0` the kernel is of size `(box_size, box_size)`\n",
    "\n",
    "<u>Output:</u>  \n",
    "The result of the blur [np.array](https://docs.scipy.org/doc/numpy-1.13.0/reference/generated/numpy.array.html) of size `(N, M)`"
   ]
  },
  {
   "cell_type": "code",
   "execution_count": 50,
   "metadata": {},
   "outputs": [],
   "source": [
    "from scipy.ndimage import convolve\n",
    "def w2_box_blur(image, box_size):\n",
    "    \"\"\"Perform the blur of the image\n",
    "    # Arguments\n",
    "        image: input matrix - np.array of size `(N, M)`\n",
    "        box_size: the size of the blur kernel - int > 0  \n",
    "            the kernel is of size `(box_size, box_size)`\n",
    "    # Output\n",
    "        the result of the blur\n",
    "            np.array of size `(N, M)`\n",
    "    \"\"\"   \n",
    "    kernel = np.ones((box_size,box_size), dtype=int)\n",
    "    divisor = np.sum(kernel)\n",
    "    output = convolve(image, kernel, mode='constant')/divisor\n",
    "    return output"
   ]
  },
  {
   "cell_type": "markdown",
   "metadata": {},
   "source": [
    "You can test your solution before submitting it. Running the following code block should yield this result:\n",
    "$$ \n",
    "\\begin{equation*}\n",
    "\\begin{bmatrix}\n",
    "1 & 2 & 1 \\\\\n",
    "2 & 4 & 2 \\\\\n",
    "1 & 2 & 1 \n",
    "\\end {bmatrix}\n",
    "\\end{equation*}\n",
    "$$"
   ]
  },
  {
   "cell_type": "code",
   "execution_count": 51,
   "metadata": {},
   "outputs": [
    {
     "name": "stdout",
     "output_type": "stream",
     "text": [
      "[[1. 2. 1.]\n",
      " [2. 4. 2.]\n",
      " [1. 2. 1.]]\n"
     ]
    }
   ],
   "source": [
    "test_image = np.array([\n",
    "    [9, 0, 9],\n",
    "    [0, 0, 0],\n",
    "    [9, 0, 9]\n",
    "])\n",
    "\n",
    "print(w2_box_blur(test_image, 3))"
   ]
  },
  {
   "cell_type": "code",
   "execution_count": 54,
   "metadata": {},
   "outputs": [
    {
     "name": "stdout",
     "output_type": "stream",
     "text": [
      "Running local tests...\n",
      "w2_box_blur successfully passed local tests\n",
      "Running remote test...\n",
      "Test was successful. Congratulations!\n"
     ]
    }
   ],
   "source": [
    "am.test_student_function(username, w2_box_blur, ['image', 'box_size'])"
   ]
  },
  {
   "cell_type": "markdown",
   "metadata": {},
   "source": [
    "Let's blur the dog"
   ]
  },
  {
   "cell_type": "code",
   "execution_count": 55,
   "metadata": {},
   "outputs": [
    {
     "data": {
      "text/plain": [
       "<matplotlib.image.AxesImage at 0x7fc72f347fd0>"
      ]
     },
     "execution_count": 55,
     "metadata": {},
     "output_type": "execute_result"
    },
    {
     "data": {
      "image/png": "[encoded data removed]",
      "text/plain": [
       "<Figure size 640x480 with 1 Axes>"
      ]
     },
     "metadata": {},
     "output_type": "display_data"
    }
   ],
   "source": [
    "blur_dog = w2_box_blur(img, box_size=3)\n",
    "plt.imshow(blur_dog, cmap='gray')"
   ]
  },
  {
   "cell_type": "markdown",
   "metadata": {},
   "source": [
    "Now, we will get the vertical and horizontal gradients. To perform it we calculate the convolution of the image with the following kernels:\n",
    "\n",
    "$$\n",
    "K_h = \n",
    "\\begin{bmatrix}\n",
    "-1 & 0  & 1\\\\\n",
    "\\end{bmatrix} \\quad\n",
    "K_v = \n",
    "\\begin{bmatrix}\n",
    "1 \\\\\n",
    "0 \\\\\n",
    "-1\\\\\n",
    "\\end{bmatrix} \\\\\n",
    "X_h = X \\star K_h \\quad X_v = X \\star K_v\\\\\n",
    "$$\n",
    "\n",
    "And then we calculate the amplitude of the gradient:\n",
    "\n",
    "$$\n",
    "X_\\text{grad} = \\sqrt{X_h^2 + X_v^2}\n",
    "$$"
   ]
  },
  {
   "cell_type": "code",
   "execution_count": 56,
   "metadata": {},
   "outputs": [
    {
     "name": "stdout",
     "output_type": "stream",
     "text": [
      "[[0.317756   0.47766888 0.47461876 ... 0.5019608  0.49498913 0.32679737]\n",
      " [0.4818083  0.73159045 0.732244   ... 0.7537037  0.7507625  0.49640524]\n",
      " [0.49052286 0.75479305 0.76862746 ... 0.77418303 0.7755992  0.5118736 ]\n",
      " ...\n",
      " [0.4617647  0.664597   0.6400871  ... 0.5950981  0.6114379  0.41819173]\n",
      " [0.47331157 0.70141613 0.6742919  ... 0.6058824  0.6285403  0.4358388 ]\n",
      " [0.31862748 0.4881264  0.47331157 ... 0.39259258 0.41928107 0.29389977]]\n",
      "[[-1  0  1]]\n",
      "[[0.317756   0.47766888 0.47461876 ... 0.5019608  0.49498913 0.32679737]\n",
      " [0.4818083  0.73159045 0.732244   ... 0.7537037  0.7507625  0.49640524]\n",
      " [0.49052286 0.75479305 0.76862746 ... 0.77418303 0.7755992  0.5118736 ]\n",
      " ...\n",
      " [0.4617647  0.664597   0.6400871  ... 0.5950981  0.6114379  0.41819173]\n",
      " [0.47331157 0.70141613 0.6742919  ... 0.6058824  0.6285403  0.4358388 ]\n",
      " [0.31862748 0.4881264  0.47331157 ... 0.39259258 0.41928107 0.29389977]]\n",
      "[[-1]\n",
      " [ 0]\n",
      " [ 1]]\n"
     ]
    },
    {
     "data": {
      "text/plain": [
       "<matplotlib.image.AxesImage at 0x7fc72e4dbd90>"
      ]
     },
     "execution_count": 56,
     "metadata": {},
     "output_type": "execute_result"
    },
    {
     "data": {
      "image/png": "[encoded data removed]",
      "text/plain": [
       "<Figure size 640x480 with 1 Axes>"
      ]
     },
     "metadata": {},
     "output_type": "display_data"
    }
   ],
   "source": [
    "dog_h = w2_conv_matrix(blur_dog, np.array([[-1, 0, 1]]))\n",
    "dog_v = w2_conv_matrix(blur_dog, np.array([[-1, 0, 1]]).T)\n",
    "dog_grad = np.sqrt(dog_h ** 2 + dog_v ** 2)\n",
    "plt.imshow(dog_grad, cmap='gray')"
   ]
  },
  {
   "cell_type": "markdown",
   "metadata": {},
   "source": [
    "This yields the edges of our blurred dog. It is not the only way to obtain edges though, there are plenty more:\n",
    "* [Canny edge detection](https://en.wikipedia.org/wiki/Canny_edge_detector)\n",
    "* [Sobel operator](https://en.wikipedia.org/wiki/Sobel_operator)\n",
    "* [Prewitt operator](https://en.wikipedia.org/wiki/Prewitt_operator)"
   ]
  },
  {
   "cell_type": "markdown",
   "metadata": {},
   "source": [
    "When you convolve an image with a kernel you obtain a map of responses. The more correlated the patch of an image is with the kernel, the higher the response. Let's take a closer look:"
   ]
  },
  {
   "cell_type": "code",
   "execution_count": 57,
   "metadata": {},
   "outputs": [
    {
     "data": {
      "image/png": "[encoded data removed]",
      "text/plain": [
       "<Figure size 640x480 with 1 Axes>"
      ]
     },
     "metadata": {},
     "output_type": "display_data"
    },
    {
     "data": {
      "image/png": "[encoded data removed]",
      "text/plain": [
       "<Figure size 640x480 with 1 Axes>"
      ]
     },
     "metadata": {},
     "output_type": "display_data"
    },
    {
     "name": "stdout",
     "output_type": "stream",
     "text": [
      "[[0.32102471 0.16617516 0.0354703  0.36207234 0.17376282 0.12296706\n",
      "  0.22538369 0.05593052 0.18702747 0.15109909 0.14523509 0.14025866\n",
      "  0.18662371 0.39800053 0.30161915 0.26399469 0.42023721 0.39255579\n",
      "  0.04705117 0.43331557 0.22378691 0.26488374 0.00419173 0.43017127\n",
      "  0.35879193 0.09683207 0.24138429]\n",
      " [0.39686191 0.24681435 0.44993881 0.45016307 0.10538846 0.04408505\n",
      "  0.39939756 0.11687733 0.4472468  0.11319153 0.37948182 0.45732875\n",
      "  0.07804533 0.41487151 0.32883323 0.00711718 0.05213769 0.17349519\n",
      "  0.15527693 0.24335361 0.31199423 0.15246656 0.25362941 0.45731817\n",
      "  0.4570433  0.13062584 0.45466726]\n",
      " [0.2055552  0.26884196 0.01326535 0.24593016 0.37399957 0.15600038\n",
      "  0.43990949 0.3831214  0.20593014 0.01310164 0.33783433 0.3292431\n",
      "  0.3814494  0.26150403 0.15753011 0.32039484 0.33728253 0.49809652\n",
      "  0.17910326 0.25997862 0.25149659 0.0261075  0.11540625 0.1453062\n",
      "  0.09871132 0.08307807 0.38558111]\n",
      " [0.40318664 0.23479629 0.27410177 0.1369575  0.13731774 0.41792571\n",
      "  0.01254728 0.46737885 0.29483168 0.05206153 0.35485198 0.00523524\n",
      "  0.1986249  0.06492261 0.29393153 0.27057516 0.3773883  0.14829923\n",
      "  0.1514851  0.15550932 0.41742641 0.40822445 0.126262   0.06536106\n",
      "  0.30733301 0.03998492 0.46716983]\n",
      " [0.19334303 0.38201014 0.35959568 0.06118634 0.00218399 0.32272529\n",
      "  0.22038833 0.06061929 0.01703135 0.22043162 0.0648313  0.28832272\n",
      "  0.05628294 0.21609821 0.45740227 0.13882784 0.06079936 0.19315306\n",
      "  0.3977943  0.00129526 0.21847754 0.06778249 0.11943395 0.41764735\n",
      "  0.39663169 0.22152726 0.37966997]\n",
      " [0.48948232 0.28014174 0.04998169 0.20741977 0.16827292 0.05255772\n",
      "  0.48658582 0.25797501 0.23168156 0.45152661 0.30634407 0.0014602\n",
      "  0.40638126 0.16496578 0.37615952 0.14182917 0.37843229 0.38936803\n",
      "  0.01330272 0.3905983  0.25814496 0.23985859 0.37122767 0.07029796\n",
      "  0.47298139 0.4254002  0.09733679]\n",
      " [0.44989656 0.23769588 0.2555552  0.12398407 0.20682189 0.18311441\n",
      "  0.49491829 0.34745742 0.03966472 0.09471011 0.11029885 0.06746422\n",
      "  0.4266597  0.00520839 0.31738207 0.24815967 0.37621035 0.24611912\n",
      "  0.14050061 0.35238505 0.24175412 0.13865266 0.43745665 0.35991671\n",
      "  0.02904226 0.21934428 0.11219395]\n",
      " [0.37198052 0.28473007 0.30913935 0.16243852 0.01372063 0.01645428\n",
      "  0.19985105 0.48910833 0.24776094 0.40825964 0.01474323 0.20741365\n",
      "  0.20744762 0.03341843 0.19706179 0.30003035 0.22720055 0.46463347\n",
      "  0.22193799 0.46577991 0.38155717 0.07667654 0.31542631 0.01976211\n",
      "  0.4382641  0.31064117 0.37590669]\n",
      " [0.14605141 0.31564493 0.29862855 0.05392383 0.06933887 0.4145812\n",
      "  0.14250038 0.47187284 0.3220517  0.20512789 0.05536684 0.22173908\n",
      "  0.33908766 0.11749142 0.10937969 0.19171146 0.34866655 0.14389079\n",
      "  0.45851272 0.30803671 0.23500932 0.29323393 0.05041328 0.29391914\n",
      "  0.31669406 0.26389391 0.26880191]\n",
      " [0.18282227 0.03835724 0.2812488  0.40469652 0.36508841 0.44468671\n",
      "  0.09507262 0.25816913 0.21836179 0.26389397 0.32805677 0.12861418\n",
      "  0.47407106 0.31417386 0.34696706 0.44871649 0.29355516 0.23665335\n",
      "  0.11810999 0.40310731 0.38628295 0.42086688 0.15358781 0.2624789\n",
      "  0.22544175 0.31772764 0.29403979]\n",
      " [0.12321416 0.43992439 0.4280792  0.04276289 0.10926897 0.30359254\n",
      "  0.44919939 0.12225172 0.37895435 0.20881671 0.240277   0.33320572\n",
      "  0.45231879 0.29859193 0.09264732 0.33162936 0.22484238 0.11553534\n",
      "  0.35813236 0.31034198 0.00378463 0.31535559 0.37688966 0.11409085\n",
      "  0.24380462 0.217253   0.26130263]\n",
      " [0.20913045 0.27576019 0.04878807 0.28410487 0.28954766 0.25503366\n",
      "  0.105057   0.28001488 0.00159605 0.05138439 0.43868372 0.12923677\n",
      "  0.48124892 0.28840155 0.3125806  0.46423519 0.31930335 0.49987669\n",
      "  0.14795267 0.42836931 0.1867554  0.31462015 0.20543872 0.06631841\n",
      "  0.09081597 0.23865355 0.2243224 ]\n",
      " [0.10421665 0.39253633 0.42364141 0.49023578 0.04961014 0.10140352\n",
      "  0.28692174 0.3729712  0.33582433 0.24632882 0.23243596 0.83931529\n",
      "  0.24816999 0.24508711 0.21239679 0.43182476 0.09230607 0.41366654\n",
      "  0.43958186 0.36350519 0.13552355 0.38740649 0.28174393 0.20113862\n",
      "  0.29361419 0.11072506 0.3509503 ]\n",
      " [0.02160549 0.47376983 0.38243472 0.31794313 0.19845981 0.04767528\n",
      "  0.01236852 0.06060815 0.01334156 0.36880364 0.50528204 0.75338196\n",
      "  0.53745533 0.42979998 0.21148228 0.34429829 0.48858634 0.18128852\n",
      "  0.38715122 0.31897532 0.26711309 0.31594541 0.43876123 0.358105\n",
      "  0.27617182 0.40778496 0.39777064]\n",
      " [0.47442283 0.00156331 0.12155646 0.11058199 0.43975887 0.00933584\n",
      "  0.19591464 0.18894574 0.19383196 0.42773557 0.11963252 0.64870392\n",
      "  0.02959024 0.22664378 0.12384498 0.47605991 0.44477526 0.45661283\n",
      "  0.42425884 0.06635559 0.48647881 0.18802041 0.41977337 0.30256981\n",
      "  0.19286949 0.0980137  0.41266593]\n",
      " [0.21458605 0.4633056  0.46505555 0.27732015 0.35312651 0.29538616\n",
      "  0.01008844 0.44992768 0.3828371  0.10334695 0.29671052 0.29164521\n",
      "  0.25408598 0.35564669 0.01157288 0.07142793 0.26854912 0.44740046\n",
      "  0.0517859  0.15689737 0.16124829 0.35813996 0.32968216 0.22652817\n",
      "  0.30254071 0.33542364 0.23285783]\n",
      " [0.22461986 0.16874687 0.09942201 0.05713743 0.34400863 0.03497202\n",
      "  0.04863974 0.30716356 0.0357516  0.40877888 0.32550555 0.08073353\n",
      "  0.08657915 0.00587282 0.00902467 0.19429425 0.20855393 0.29481112\n",
      "  0.47329633 0.08056507 0.18941149 0.36685705 0.30277835 0.36869196\n",
      "  0.48987809 0.06207023 0.0222037 ]\n",
      " [0.23937618 0.35529633 0.13829652 0.43007945 0.22281225 0.48097401\n",
      "  0.13189938 0.18799986 0.44553372 0.07056541 0.02789299 0.10818223\n",
      "  0.32043989 0.2123126  0.40103001 0.12544116 0.22068651 0.17833405\n",
      "  0.2864516  0.31280702 0.41605313 0.35904035 0.22122275 0.25964353\n",
      "  0.05236198 0.01987268 0.06183176]\n",
      " [0.38256913 0.18769231 0.17459032 0.3106648  0.22618968 0.47739309\n",
      "  0.03534645 0.23747542 0.13876481 0.06756585 0.25420692 0.40641837\n",
      "  0.35037148 0.24022213 0.0771073  0.46760656 0.08304454 0.20960475\n",
      "  0.34962352 0.05446111 0.05286693 0.20833741 0.13713195 0.37563144\n",
      "  0.48170092 0.45053308 0.05849105]\n",
      " [0.23923656 0.39462533 0.30048378 0.47122134 0.37335723 0.10963718\n",
      "  0.15991172 0.22389394 0.06145946 0.25171449 0.27162398 0.38494266\n",
      "  0.37611586 0.24847447 0.48800019 0.11625541 0.00617755 0.13751827\n",
      "  0.2964293  0.07861345 0.00240702 0.1914729  0.39854144 0.1014079\n",
      "  0.00322657 0.27593025 0.49064168]\n",
      " [0.26975425 0.18685977 0.12220376 0.03540792 0.40810629 0.00121166\n",
      "  0.35686474 0.44135477 0.28349872 0.48569395 0.11969069 0.36355905\n",
      "  0.14858817 0.39297921 0.36583468 0.38844173 0.09352993 0.24029461\n",
      "  0.24180932 0.28796448 0.43185313 0.32660208 0.2345174  0.00825305\n",
      "  0.20205355 0.34991788 0.16946366]\n",
      " [0.39149346 0.14146294 0.00866608 0.08547078 0.45832125 0.18424421\n",
      "  0.28850769 0.46916925 0.3424935  0.47687752 0.40244501 0.34169567\n",
      "  0.41965736 0.03228981 0.46644245 0.11088777 0.04595652 0.27319893\n",
      "  0.46742586 0.14998345 0.36563709 0.36327868 0.39339103 0.05795665\n",
      "  0.20220478 0.47062566 0.3306002 ]\n",
      " [0.0063078  0.27156216 0.36036161 0.19912553 0.31448468 0.2588325\n",
      "  0.46432899 0.45089521 0.39156802 0.40603212 0.34382292 0.27040739\n",
      "  0.15362601 0.21894653 0.01332088 0.18845624 0.31599117 0.37385426\n",
      "  0.38549861 0.03775473 0.12828455 0.00249447 0.08374287 0.27569403\n",
      "  0.17865135 0.03613926 0.37644022]\n",
      " [0.30181824 0.10586576 0.32821561 0.0770617  0.10137141 0.2163667\n",
      "  0.41124944 0.4485952  0.2455407  0.20400394 0.30923429 0.21928276\n",
      "  0.29356555 0.21307796 0.00806651 0.49874918 0.08450902 0.26084851\n",
      "  0.13498759 0.41239154 0.25374458 0.12026774 0.25002685 0.46194611\n",
      "  0.03357647 0.1491698  0.17477271]\n",
      " [0.16282316 0.05051336 0.25561345 0.1518259  0.10789395 0.22594546\n",
      "  0.10922225 0.40579638 0.35971818 0.16103972 0.0754533  0.39405754\n",
      "  0.28299955 0.09739191 0.47710642 0.19560713 0.36649785 0.31850819\n",
      "  0.21922566 0.07206353 0.18577837 0.34489686 0.18973958 0.20702581\n",
      "  0.05998942 0.03618279 0.37818204]\n",
      " [0.16989536 0.45505058 0.24868872 0.1362418  0.1148331  0.47924056\n",
      "  0.17423634 0.47574594 0.0767903  0.20392944 0.43891993 0.10302364\n",
      "  0.28407361 0.12451913 0.28963698 0.01091017 0.34799861 0.11238841\n",
      "  0.15761052 0.15331749 0.21434524 0.30153576 0.19094998 0.16156566\n",
      "  0.14951777 0.11416463 0.40995398]\n",
      " [0.4217505  0.08813665 0.44922882 0.10965764 0.44269176 0.16939811\n",
      "  0.28550776 0.1749575  0.03700328 0.25398028 0.45660082 0.44686487\n",
      "  0.11586519 0.01506545 0.06896668 0.49371826 0.30311781 0.42881937\n",
      "  0.2248589  0.08518307 0.34710886 0.25498621 0.28698862 0.13777082\n",
      "  0.18356888 0.47829765 0.34516534]]\n",
      "[[0 1 0]\n",
      " [1 1 1]\n",
      " [0 1 0]]\n"
     ]
    },
    {
     "data": {
      "image/png": "[encoded data removed]",
      "text/plain": [
       "<Figure size 640x480 with 1 Axes>"
      ]
     },
     "metadata": {},
     "output_type": "display_data"
    },
    {
     "data": {
      "image/png": "[encoded data removed]",
      "text/plain": [
       "<Figure size 640x480 with 1 Axes>"
      ]
     },
     "metadata": {},
     "output_type": "display_data"
    }
   ],
   "source": [
    "pattern = np.array([\n",
    "    [0, 1, 0],\n",
    "    [1, 1, 1],\n",
    "    [0, 1, 0]\n",
    "])\n",
    "# Create the image\n",
    "image = np.pad(pattern, [(12, 12), (10, 14)], mode='constant', constant_values=0)\n",
    "plt.imshow(image, cmap='gray')\n",
    "plt.title('original image')\n",
    "plt.show()\n",
    "\n",
    "# Add some noise\n",
    "image = 0.5 * image + 0.5 * np.random.random(image.shape)\n",
    "plt.imshow(image, cmap='gray')\n",
    "plt.title('noisy image')\n",
    "plt.show()\n",
    "\n",
    "# Let's find the cross \n",
    "response = w2_conv_matrix(image, pattern)\n",
    "plt.imshow(response, cmap='gray')\n",
    "plt.title('local response')\n",
    "plt.show()\n",
    "\n",
    "plt.imshow(response == response.max(), cmap='gray')\n",
    "plt.title('detected position')\n",
    "plt.show()"
   ]
  },
  {
   "cell_type": "markdown",
   "metadata": {},
   "source": [
    "The brightest pixel highlights where the cross is located. We can find the area where the image is locally close to the kernel. This is especially useful for finding different patterns in images such as: eyes, legs, dogs, cats, etc.\n",
    "\n",
    "We defined kernels and applied them to images. But we can also **learn** them by minimizing loss and making the processing as effective as possible. In order to do this, we have to define the **Convolutional Layer** in the next chapter."
   ]
  },
  {
   "cell_type": "markdown",
   "metadata": {},
   "source": [
    "## 3.3 Convolutional layer\n",
    "\n",
    "A **Convolutional Layer** works with images. Each image is a 3-dimensional object  $N_{\\text{channels}} \\times H \\times W$.  \n",
    "Here index *\"channels\"* refers to the 3 colors (or 1 for black & white images), $H$ to height, and $W$ to width.  \n",
    "And therefore, the collection of images is 4-dimensional tensor of shape $N_{\\text{objects}} \\times N_{\\text{channels}} \\times H \\times W$.\n",
    "\n",
    "For example, 32 RGB images of size $224 \\times 224$ are represented as a tensor of shape $32 \\times 3 \\times 224 \\times 224$\n",
    "\n",
    "A convolutional layer receives an image as its input. Here is how it works:  \n",
    "The layer has `n_in * n_out` kernels. It is a tensor of size `(n_in, n_out, kernel_h, kernel_w)`  \n",
    "It takes a 4-dimensional tensor of size `n_objects, n_in, H, W` as its input. \n",
    "* `n_objects` is the collection of images. \n",
    "* Each of them has `n_in` channels.\n",
    "* The resolution of the images is `(H, W)`\n",
    "\n",
    "For each of the images the following operation is performed:  \n",
    "* In order to get the 1st output channel, all inputs are convolved with their corresponding kernels.  \n",
    "* Then the results are summed and written to the output channel.  \n",
    "This is our implementation:\n",
    "```python\n",
    "for i in range(n_out):\n",
    "    out_channel = 0.0\n",
    "    for j in range(n_in):\n",
    "        kernel_2d = K[i, j] # Retrieve kernel from the collection of kernels\n",
    "        input_channel = input_image[j] # Get one channel of the input image\n",
    "        out_channel += w2_conv_matrix(input_channel, kernel_2d) # Perform convolution\n",
    "    output_image.append(out_channel) # Append the calculated channel to the output          \n",
    "```\n",
    "\n",
    "We implemented the convolutional layer for you. The implementation of `backward` is based on the idea that convolution could be represented as matrix multiplication."
   ]
  },
  {
   "cell_type": "code",
   "execution_count": 59,
   "metadata": {},
   "outputs": [],
   "source": [
    "class ConvLayer(Layer):\n",
    "    \"\"\"\n",
    "    Convolutional Layer. The implementation is based on \n",
    "        the representation of the convolution as matrix multiplication\n",
    "    \"\"\"\n",
    "    \n",
    "    def __init__(self, n_in, n_out, filter_size):\n",
    "        super(ConvLayer, self).__init__()\n",
    "        self.W = np.random.normal(size=(n_out, n_in, filter_size, filter_size))\n",
    "        self.b = np.zeros(n_out)\n",
    "        \n",
    "    def forward(self, x_input):\n",
    "        n_obj, n_in, h, w = x_input.shape\n",
    "        n_out = len(self.W)\n",
    "        \n",
    "        self.output = []\n",
    "        \n",
    "        for image in x_input:\n",
    "            output_image = []\n",
    "            for i in range(n_out):\n",
    "                out_channel = 0.0\n",
    "                for j in range(n_in):\n",
    "                    out_channel += w2_conv_matrix(image[j], self.W[i, j])\n",
    "                output_image.append(out_channel)\n",
    "            self.output.append(np.stack(output_image, 0))\n",
    "\n",
    "        self.output = np.stack(self.output, 0)\n",
    "        return self.output\n",
    "\n",
    "    \n",
    "    def backward(self, x_input, grad_output):\n",
    "\n",
    "        N, C, H, W = x_input.shape \n",
    "        F, C, HH, WW = self.W.shape\n",
    "        \n",
    "        pad = int((HH - 1) / 2)\n",
    "\n",
    "        self.grad_b = np.sum(grad_output, (0, 2, 3)) \n",
    "\n",
    "        # pad input array\n",
    "        x_padded = np.pad(x_input, ((0,0), (0,0), (pad, pad), (pad, pad)), 'constant')\n",
    "        H_padded, W_padded = x_padded.shape[2], x_padded.shape[3]\n",
    "        # naive implementation of im2col\n",
    "        x_cols = None\n",
    "        for i in range(HH, H_padded + 1):\n",
    "            for j in range(WW, W_padded+1):\n",
    "                for n in range(N):\n",
    "                    field = x_padded[n, :, i-HH:i, j-WW:j].reshape((1,-1))    \n",
    "                    if x_cols is None:\n",
    "                        x_cols = field\n",
    "                    else:\n",
    "                        x_cols = np.vstack((x_cols, field))\n",
    "                        \n",
    "        x_cols = x_cols.T\n",
    "\n",
    "        d_out = grad_output.transpose(1, 2, 3, 0) \n",
    "        dout_cols = d_out.reshape(F, -1) \n",
    "\n",
    "        dw_cols = np.dot(dout_cols, x_cols.T) \n",
    "        self.grad_W = dw_cols.reshape(F, C, HH, WW) \n",
    "\n",
    "        w_cols = self.W.reshape(F, -1) \n",
    "        dx_cols = np.dot(w_cols.T, dout_cols) \n",
    "\n",
    "        dx_padded = np.zeros((N, C, H_padded, W_padded))\n",
    "        idx = 0\n",
    "        for i in range(HH, H_padded + 1):\n",
    "            for j in range(WW, W_padded + 1):\n",
    "                for n in range(N):\n",
    "                    dx_padded[n:n+1, :, i-HH:i, j-WW:j] += dx_cols[:, idx].reshape((1, C, HH, WW))\n",
    "                    idx += 1\n",
    "            dx = dx_padded[:, :, pad:-pad, pad:-pad]\n",
    "        grad_input = dx\n",
    "        return grad_input\n",
    "    \n",
    "    def get_params(self):\n",
    "        return [self.W, self.b]\n",
    "\n",
    "    def get_params_gradients(self):\n",
    "        return [self.grad_W, self.grad_b]"
   ]
  },
  {
   "cell_type": "markdown",
   "metadata": {},
   "source": [
    "This layer transforms images with 3 channels into images with 8 channels by convolving them with kernels of size `(3, 3)`"
   ]
  },
  {
   "cell_type": "code",
   "execution_count": 60,
   "metadata": {},
   "outputs": [],
   "source": [
    "conv_layer = ConvLayer(3, 8, filter_size=3)"
   ]
  },
  {
   "cell_type": "markdown",
   "metadata": {},
   "source": [
    "## 3.4 Pooling layer\n",
    "\n",
    "The pooling layer **reduces the size of an image**. \n",
    "\n",
    "In the following figure $2 \\times 2$ pooling is applied on the image which effectively reduces the size by half.  \n",
    "If you look closely, pooling operations have no effect on the depth of an image.\n",
    "![pool](./src/pool.png)\n",
    "\n",
    "There are several types of pooling operations but the most common one is **max pooling**. \n",
    "\n",
    "During a max pooling operation, the image is split into **windows** (or **filters**) and then the maximum of each window is used as the output.\n",
    "\n",
    "![maxpool](./src/maxpool.png)"
   ]
  },
  {
   "cell_type": "code",
   "execution_count": 9,
   "metadata": {},
   "outputs": [
    {
     "ename": "ModuleNotFoundError",
     "evalue": "No module named 'tensorflow'",
     "output_type": "error",
     "traceback": [
      "\u001b[0;31m---------------------------------------------------------------------------\u001b[0m",
      "\u001b[0;31mModuleNotFoundError\u001b[0m                       Traceback (most recent call last)",
      "\u001b[0;32m/var/folders/4d/_hvc8l4d27x_0_349j1cpw7r0000gn/T/ipykernel_97768/3793406994.py\u001b[0m in \u001b[0;36m<module>\u001b[0;34m\u001b[0m\n\u001b[0;32m----> 1\u001b[0;31m \u001b[0;32mimport\u001b[0m \u001b[0mtensorflow\u001b[0m \u001b[0;32mas\u001b[0m \u001b[0mtf\u001b[0m\u001b[0;34m\u001b[0m\u001b[0;34m\u001b[0m\u001b[0m\n\u001b[0m",
      "\u001b[0;31mModuleNotFoundError\u001b[0m: No module named 'tensorflow'"
     ]
    }
   ],
   "source": [
    "import tensorflow as tf"
   ]
  },
  {
   "cell_type": "code",
   "execution_count": 5,
   "metadata": {},
   "outputs": [],
   "source": [
    "import numpy as np\n",
    "import scipy.ndimage as nd\n",
    "import skimage.measure\n",
    "\n",
    "def w2_maxpool_forward(x_input):\n",
    "    \"\"\"Perform max pooling operation with 2x2 window\n",
    "    # Arguments\n",
    "        x_input: np.array of size (2 * W, 2 * H)\n",
    "    # Output\n",
    "        output: np.array of size (W, H)\n",
    "    \"\"\"\n",
    "    width = len(x_input)\n",
    "    height = len(x_input[0])\n",
    "    width_1 = width/2\n",
    "    height_1 = height/2\n",
    "    width_1 = int(width_1)\n",
    "    height_1 = int(height_1)\n",
    "\n",
    "    output = skimage.measure.block_reduce(x_input, (2,2), np.max)\n",
    "    return output"
   ]
  },
  {
   "cell_type": "markdown",
   "metadata": {},
   "source": [
    "Once again, you can use example data to test your solution:  \n",
    "**Image:**\n",
    "$$ \n",
    "\\begin{equation*}\n",
    "\\begin{bmatrix}\n",
    "1 & 1 & 2 & 4 \\\\\n",
    "5 & 6 & 7 & 8 \\\\\n",
    "3 & 2 & 1 & 0 \\\\\n",
    "1 & 2 & 3 & 4\n",
    "\\end {bmatrix}\n",
    "\\end{equation*}\n",
    "$$\n",
    "\n",
    "**Output:**\n",
    "$$ \n",
    "\\begin{equation*}\n",
    "\\begin{bmatrix}\n",
    "6 & 8 \\\\\n",
    "3 & 4\n",
    "\\end {bmatrix}\n",
    "\\end{equation*}\n",
    "$$"
   ]
  },
  {
   "cell_type": "code",
   "execution_count": 6,
   "metadata": {},
   "outputs": [
    {
     "name": "stdout",
     "output_type": "stream",
     "text": [
      "[[6 8]\n",
      " [3 4]]\n"
     ]
    }
   ],
   "source": [
    "test_image = np.array([\n",
    "    [1, 1, 2, 4],\n",
    "    [5, 6, 7, 8],\n",
    "    [3, 2, 1, 0],\n",
    "    [1, 2, 3, 4]\n",
    "])\n",
    "\n",
    "print(w2_maxpool_forward(test_image))"
   ]
  },
  {
   "cell_type": "code",
   "execution_count": 7,
   "metadata": {},
   "outputs": [
    {
     "name": "stdout",
     "output_type": "stream",
     "text": [
      "Running local tests...\n",
      "w2_maxpool_forward successfully passed local tests\n",
      "Running remote test...\n",
      "Test was successful. Congratulations!\n"
     ]
    }
   ],
   "source": [
    "am.test_student_function(username, w2_maxpool_forward, ['x_input'])"
   ]
  },
  {
   "cell_type": "markdown",
   "metadata": {},
   "source": [
    "We already implemented the gradient calculation.  \n",
    "It is not overly complicated; reading the code should help you to understand the concept."
   ]
  },
  {
   "cell_type": "code",
   "execution_count": 54,
   "metadata": {},
   "outputs": [],
   "source": [
    "def maxpool_grad_input(x_input, grad_output):\n",
    "    \"\"\"Calculate partial derivative of the loss with respect to the input\n",
    "    # Arguments\n",
    "        x_input: np.array of size (2 * W, 2 * H)\n",
    "        grad_output: partial derivative of the loss \n",
    "            with respect to the output \n",
    "            np.array of size (W, H)\n",
    "    # Output\n",
    "        output: partial derivative of the loss \n",
    "            with respect to the input\n",
    "            np.array of size (2 * W, 2 * H) \n",
    "    \"\"\"\n",
    "    height, width = x_input.shape\n",
    "    # create the array of zeros of the required size\n",
    "    grad_input = np.zeros(x_input.shape)\n",
    "    \n",
    "    # let's put 1 if the element with this position \n",
    "    # is maximal in the window\n",
    "    for i in range(0, height, 2):\n",
    "        for j in range(0, width, 2):\n",
    "            window = x_input[i:i+2, j:j+2]\n",
    "            i_max, j_max = np.unravel_index(np.argmax(window), (2, 2))\n",
    "            grad_input[i + i_max, j + j_max] = 1\n",
    "            \n",
    "    # put corresponding gradient instead of 1       \n",
    "    grad_input = grad_input.ravel()\n",
    "    grad_input[grad_input == 1] = grad_output.ravel()\n",
    "    grad_input = grad_input.reshape(x_input.shape)\n",
    "    return grad_input"
   ]
  },
  {
   "cell_type": "markdown",
   "metadata": {},
   "source": [
    "Following up is the full implementation of the **MaxPool Layer**."
   ]
  },
  {
   "cell_type": "code",
   "execution_count": 57,
   "metadata": {},
   "outputs": [
    {
     "ename": "NameError",
     "evalue": "name 'Layer' is not defined",
     "output_type": "error",
     "traceback": [
      "\u001b[0;31m---------------------------------------------------------------------------\u001b[0m",
      "\u001b[0;31mNameError\u001b[0m                                 Traceback (most recent call last)",
      "\u001b[0;32m/var/folders/4d/_hvc8l4d27x_0_349j1cpw7r0000gn/T/ipykernel_98422/3862614841.py\u001b[0m in \u001b[0;36m<module>\u001b[0;34m\u001b[0m\n\u001b[0;32m----> 1\u001b[0;31m \u001b[0;32mclass\u001b[0m \u001b[0mMaxPool2x2\u001b[0m\u001b[0;34m(\u001b[0m\u001b[0mLayer\u001b[0m\u001b[0;34m)\u001b[0m\u001b[0;34m:\u001b[0m\u001b[0;34m\u001b[0m\u001b[0;34m\u001b[0m\u001b[0m\n\u001b[0m\u001b[1;32m      2\u001b[0m \u001b[0;34m\u001b[0m\u001b[0m\n\u001b[1;32m      3\u001b[0m     \u001b[0;32mdef\u001b[0m \u001b[0mforward\u001b[0m\u001b[0;34m(\u001b[0m\u001b[0mself\u001b[0m\u001b[0;34m,\u001b[0m \u001b[0mx_input\u001b[0m\u001b[0;34m)\u001b[0m\u001b[0;34m:\u001b[0m\u001b[0;34m\u001b[0m\u001b[0;34m\u001b[0m\u001b[0m\n\u001b[1;32m      4\u001b[0m         \u001b[0mn_obj\u001b[0m\u001b[0;34m,\u001b[0m \u001b[0mn_ch\u001b[0m\u001b[0;34m,\u001b[0m \u001b[0mh\u001b[0m\u001b[0;34m,\u001b[0m \u001b[0mw\u001b[0m \u001b[0;34m=\u001b[0m \u001b[0mx_input\u001b[0m\u001b[0;34m.\u001b[0m\u001b[0mshape\u001b[0m\u001b[0;34m\u001b[0m\u001b[0;34m\u001b[0m\u001b[0m\n\u001b[1;32m      5\u001b[0m         \u001b[0mself\u001b[0m\u001b[0;34m.\u001b[0m\u001b[0moutput\u001b[0m \u001b[0;34m=\u001b[0m \u001b[0mnp\u001b[0m\u001b[0;34m.\u001b[0m\u001b[0mzeros\u001b[0m\u001b[0;34m(\u001b[0m\u001b[0;34m(\u001b[0m\u001b[0mn_obj\u001b[0m\u001b[0;34m,\u001b[0m \u001b[0mn_ch\u001b[0m\u001b[0;34m,\u001b[0m \u001b[0mh\u001b[0m \u001b[0;34m//\u001b[0m \u001b[0;36m2\u001b[0m\u001b[0;34m,\u001b[0m \u001b[0mw\u001b[0m \u001b[0;34m//\u001b[0m \u001b[0;36m2\u001b[0m\u001b[0;34m)\u001b[0m\u001b[0;34m)\u001b[0m\u001b[0;34m\u001b[0m\u001b[0;34m\u001b[0m\u001b[0m\n",
      "\u001b[0;31mNameError\u001b[0m: name 'Layer' is not defined"
     ]
    }
   ],
   "source": [
    "class MaxPool2x2(Layer):\n",
    "    \n",
    "    def forward(self, x_input):\n",
    "        n_obj, n_ch, h, w = x_input.shape\n",
    "        self.output = np.zeros((n_obj, n_ch, h // 2, w // 2))\n",
    "        for i in range(n_obj):\n",
    "            for j in range(n_ch):\n",
    "                self.output[i, j] = w2_maxpool_forward(x_input[i, j])\n",
    "        return self.output \n",
    "    \n",
    "    def backward(self, x_input, grad_output):\n",
    "        n_obj, n_ch, _, _ = x_input.shape\n",
    "        grad_input = np.zeros_like(x_input)\n",
    "        for i in range(n_obj):\n",
    "            for j in range(n_ch):\n",
    "                grad_input[i, j] = maxpool_grad_input(x_input[i, j], grad_output[i, j])\n",
    "        return grad_input"
   ]
  },
  {
   "cell_type": "markdown",
   "metadata": {},
   "source": [
    "# 3.5 Flatten\n",
    "\n",
    "Convolutional neural networks are better at image processing than fully connected neural networks (dense networks). We will combine convolutional layers, which deal with 4-dimensional tensors, with dense layers, which work with matrices.  \n",
    "In order to bridge the gap between convolutional layers and dense layers we will implement the **Flatten Layer**.\n",
    "\n",
    "The Flatten layer receives a 4-dimensional tensor of size `(n_obj, n_channels, h, w)` as its input and reshapes it into a 2-dimensional tensor (matrix) of size `(n_obj, n_channels * h * w)`.  \n",
    "\n",
    "The backward pass of this layer is pretty straightforward. Remember that we don't actually change any values; we merely reshape inputs.\n",
    "\n",
    "**Please implement `w2_flatten_forward` functions using [np.reshape](https://docs.scipy.org/doc/numpy-1.13.0/reference/generated/numpy.reshape.html)**."
   ]
  },
  {
   "cell_type": "code",
   "execution_count": 10,
   "metadata": {},
   "outputs": [],
   "source": [
    "def w2_flatten_forward(x_input):\n",
    "    \"\"\"Perform the reshaping of the tensor of size `(K, L, M, N)` \n",
    "        to the tensor of size `(K, L*M*N)`\n",
    "    # Arguments\n",
    "        x_input: np.array of size `(K, L, M, N)`\n",
    "    # Output\n",
    "        output: np.array of size `(K, L*M*N)`\n",
    "    \"\"\"\n",
    "    print(x_input.shape)\n",
    "#     n_obj = int(x_input[0])\n",
    "#     n_channels = int(x_input[1])\n",
    "#     h = int(x_input[2])\n",
    "#     w = int(x_input[3])\n",
    "    \n",
    "    n_obj, n_channels, h, w = x_input.shape\n",
    "    output=x_input.reshape(n_obj, (n_channels*h*w))\n",
    "    return output"
   ]
  },
  {
   "cell_type": "markdown",
   "metadata": {},
   "source": [
    "You can use test data and compare the final shape. It should be `(100, 768)` for the following example.  \n",
    "Please ignore the use of [np.zeros](https://docs.scipy.org/doc/numpy-1.13.0/reference/generated/numpy.zeros.html) in this case. We are just interested in transforming shapes.  \n",
    "**Be aware:** This test will fail if you do not return an array like object!"
   ]
  },
  {
   "cell_type": "code",
   "execution_count": 11,
   "metadata": {},
   "outputs": [
    {
     "name": "stdout",
     "output_type": "stream",
     "text": [
      "(100, 3, 16, 16)\n",
      "(100, 768)\n"
     ]
    }
   ],
   "source": [
    "test_input = np.zeros((100, 3, 16, 16))\n",
    "\n",
    "print(w2_flatten_forward(test_input).shape)"
   ]
  },
  {
   "cell_type": "code",
   "execution_count": 12,
   "metadata": {},
   "outputs": [
    {
     "name": "stdout",
     "output_type": "stream",
     "text": [
      "Running local tests...\n",
      "(6, 3, 5, 1)\n",
      "(5, 5, 3, 3)\n",
      "(6, 5, 6, 5)\n",
      "(1, 5, 6, 3)\n",
      "(4, 4, 1, 6)\n",
      "(5, 5, 4, 3)\n",
      "(1, 2, 6, 5)\n",
      "(2, 5, 4, 5)\n",
      "(6, 4, 3, 3)\n",
      "(5, 1, 4, 5)\n",
      "(1, 4, 6, 5)\n",
      "(6, 1, 3, 2)\n",
      "(5, 4, 3, 4)\n",
      "(4, 5, 2, 1)\n",
      "(1, 3, 4, 4)\n",
      "(4, 4, 1, 2)\n",
      "(1, 5, 5, 6)\n",
      "(3, 4, 6, 3)\n",
      "(2, 6, 1, 6)\n",
      "(4, 3, 4, 2)\n",
      "(1, 5, 2, 5)\n",
      "(1, 4, 3, 4)\n",
      "(1, 6, 2, 1)\n",
      "(6, 6, 4, 3)\n",
      "(6, 4, 1, 3)\n",
      "(1, 2, 2, 4)\n",
      "(2, 1, 1, 5)\n",
      "(4, 2, 3, 4)\n",
      "(6, 5, 4, 1)\n",
      "(6, 3, 3, 2)\n",
      "(4, 4, 6, 3)\n",
      "(5, 4, 1, 1)\n",
      "(2, 4, 5, 3)\n",
      "(4, 6, 4, 2)\n",
      "(5, 4, 2, 2)\n",
      "(5, 2, 2, 5)\n",
      "(1, 5, 6, 6)\n",
      "(5, 5, 6, 1)\n",
      "(3, 2, 2, 2)\n",
      "(4, 1, 5, 6)\n",
      "(2, 4, 5, 3)\n",
      "(2, 4, 6, 1)\n",
      "(4, 5, 1, 5)\n",
      "(5, 3, 4, 2)\n",
      "(3, 2, 6, 5)\n",
      "(6, 1, 2, 4)\n",
      "(5, 2, 5, 2)\n",
      "(6, 4, 6, 2)\n",
      "(6, 3, 4, 5)\n",
      "(2, 6, 3, 1)\n",
      "(3, 3, 6, 1)\n",
      "(4, 3, 4, 2)\n",
      "(6, 1, 5, 5)\n",
      "(3, 3, 5, 3)\n",
      "(5, 5, 5, 4)\n",
      "(6, 5, 5, 5)\n",
      "(5, 2, 4, 3)\n",
      "(6, 1, 2, 6)\n",
      "(1, 4, 2, 3)\n",
      "(3, 1, 1, 6)\n",
      "(6, 6, 2, 1)\n",
      "(6, 4, 5, 1)\n",
      "(5, 4, 2, 5)\n",
      "(1, 3, 4, 3)\n",
      "(6, 2, 3, 3)\n",
      "(1, 4, 3, 4)\n",
      "(3, 6, 5, 1)\n",
      "(5, 5, 6, 6)\n",
      "(3, 3, 5, 6)\n",
      "(6, 3, 1, 2)\n",
      "(6, 5, 6, 4)\n",
      "(1, 6, 1, 6)\n",
      "(2, 1, 3, 5)\n",
      "(2, 1, 3, 2)\n",
      "(3, 3, 1, 3)\n",
      "(1, 5, 3, 5)\n",
      "(1, 6, 6, 3)\n",
      "(4, 1, 6, 5)\n",
      "(5, 1, 4, 4)\n",
      "(1, 4, 4, 5)\n",
      "(3, 4, 6, 1)\n",
      "(3, 2, 4, 2)\n",
      "(2, 2, 6, 2)\n",
      "(6, 4, 1, 5)\n",
      "(4, 1, 5, 2)\n",
      "(3, 6, 6, 3)\n",
      "(2, 3, 1, 5)\n",
      "(1, 5, 4, 4)\n",
      "(5, 5, 2, 6)\n",
      "(2, 1, 4, 1)\n",
      "(1, 4, 5, 3)\n",
      "(5, 6, 5, 3)\n",
      "(4, 1, 2, 6)\n",
      "(5, 1, 2, 5)\n",
      "(6, 3, 5, 6)\n",
      "(4, 3, 1, 5)\n",
      "(5, 3, 5, 5)\n",
      "(4, 3, 6, 6)\n",
      "(3, 5, 6, 5)\n",
      "(1, 3, 6, 4)\n",
      "w2_flatten_forward successfully passed local tests\n",
      "Running remote test...\n",
      "(6, 2, 6, 1)\n",
      "Test was successful. Congratulations!\n"
     ]
    }
   ],
   "source": [
    "am.test_student_function(username, w2_flatten_forward, ['x_input'])"
   ]
  },
  {
   "cell_type": "code",
   "execution_count": null,
   "metadata": {},
   "outputs": [],
   "source": [
    "def flatten_grad_input(x_input, grad_output):\n",
    "    \"\"\"Calculate partial derivative of the loss with respect to the input\n",
    "    # Arguments\n",
    "        x_input: np.array of size `(K, L, M, N)`\n",
    "        grad_output: partial derivative of the loss \n",
    "            with respect to the output\n",
    "            np.array of size `(K, L*M*N)`\n",
    "    # Output\n",
    "        output: partial derivative of the loss \n",
    "            with respect to the input\n",
    "            np.array of size `(K, L, M, N)`\n",
    "    \"\"\"\n",
    "    grad_input = grad_output.reshape(x_input.shape)\n",
    "    return grad_input"
   ]
  },
  {
   "cell_type": "markdown",
   "metadata": {},
   "source": [
    "This is the, pretty self-explanatory, implemention of the **Flatten Layer**."
   ]
  },
  {
   "cell_type": "code",
   "execution_count": null,
   "metadata": {},
   "outputs": [],
   "source": [
    "class FlattenLayer(Layer):\n",
    "    \n",
    "    def forward(self, x_input):\n",
    "        self.output = w2_flatten_forward(x_input)\n",
    "        return self.output\n",
    "    \n",
    "    def backward(self, x_input, grad_output):\n",
    "        output = flatten_grad_input(x_input, grad_output)\n",
    "        return output"
   ]
  },
  {
   "cell_type": "markdown",
   "metadata": {},
   "source": [
    "# 4. Image Experiments\n",
    "\n",
    "This chapter focuses on conducting several experiments. We will train our neural networks with **mini-batches**. Mini-batches are small portions of our dataset, all mini-batches together should form the original dataset again. With our mini-batches in place we will feed these one-by-one to our neural network."
   ]
  },
  {
   "cell_type": "code",
   "execution_count": null,
   "metadata": {},
   "outputs": [],
   "source": [
    "import sys\n",
    "\n",
    "def iterate_minibatches(x, y, batch_size=16, verbose=True):\n",
    "    assert len(x) == len(y)\n",
    "    \n",
    "    indices = np.arange(len(x))\n",
    "    np.random.shuffle(indices)\n",
    "    \n",
    "    for i, start_idx in enumerate(range(0, len(x) - batch_size + 1, batch_size)):\n",
    "        if verbose:\n",
    "            print('\\rBatch: {}/{}'.format(i + 1, len(x) // batch_size), end='')\n",
    "            sys.stdout.flush()\n",
    "        \n",
    "        excerpt = indices[start_idx:start_idx + batch_size]\n",
    "        yield x[excerpt], y[excerpt]"
   ]
  },
  {
   "cell_type": "markdown",
   "metadata": {},
   "source": [
    "Let's import the data. Please [download](http://yann.lecun.com/exdb/mnist/) it first.\n",
    "\n",
    "If you get an error with loading the data, chances are you'll need to unpack the downloaded files."
   ]
  },
  {
   "cell_type": "code",
   "execution_count": null,
   "metadata": {},
   "outputs": [],
   "source": [
    "from dataset_utils import load_mnist"
   ]
  },
  {
   "cell_type": "code",
   "execution_count": null,
   "metadata": {},
   "outputs": [],
   "source": [
    "train = list(load_mnist(dataset='training', path='.'))\n",
    "train\n",
    "train_images = np.array([im[1] for im in train])\n",
    "train_targets = np.array([im[0] for im in train])\n",
    "# We will train a 0 vs. 1 classifier\n",
    "x_train = train_images[train_targets < 2][:1000]\n",
    "y_train = train_targets[train_targets < 2][:1000]\n",
    "\n",
    "y_train = y_train \n",
    "y_train = y_train.reshape((-1, 1))"
   ]
  },
  {
   "cell_type": "markdown",
   "metadata": {},
   "source": [
    "You just loaded the MNIST dataset. This dataset consists of gray-scale (so a single channel) images of size `28x28`. These images are represented by the RGB color model. This color model representes a color by 3 integers that range from 0 to 255, or in the case of gray-scale images this is a single integer. This means that each picture in the MNIST dataset is represented by 784 pixels with a value ranging from 0 to 255. This is how a single image looks like:"
   ]
  },
  {
   "cell_type": "code",
   "execution_count": null,
   "metadata": {},
   "outputs": [],
   "source": [
    "plt.imshow(x_train[0].reshape(28, 28), cmap='gray_r')"
   ]
  },
  {
   "cell_type": "markdown",
   "metadata": {},
   "source": [
    "To make divergence to an optimum easier, we will normalize the images to have values between 0 and 1. Then, by reshaping, we will add the dimensions for the channel which, for simplicity, was removed by the creators of this dataset. As you can see, this doesn't change anything in how the image looks like."
   ]
  },
  {
   "cell_type": "code",
   "execution_count": null,
   "metadata": {},
   "outputs": [],
   "source": [
    "x_train = x_train.astype('float32') / 255.0\n",
    "x_train = x_train.reshape((-1, 1, 28, 28))\n",
    "plt.imshow(x_train[0].reshape(28, 28), cmap='gray_r')"
   ]
  },
  {
   "cell_type": "markdown",
   "metadata": {},
   "source": [
    "Now we will train a simple convolutional neural network:"
   ]
  },
  {
   "cell_type": "code",
   "execution_count": null,
   "metadata": {},
   "outputs": [],
   "source": [
    "def get_cnn():\n",
    "    nn = SequentialNN(\n",
    "        ConvLayer(1, 2, filter_size=3), # The output is of size [N_obj 2 28 28]\n",
    "        ReLU(), # The output is of size [N_obj 2 28 28]\n",
    "        MaxPool2x2(), # The output is of size [N_obj 2 14 14]\n",
    "        ConvLayer(2, 4, filter_size=3), # The output is of size [N_obj 4 14 14]\n",
    "        ReLU(), # The output is of size [N_obj 4 14 14]\n",
    "        MaxPool2x2(), # The output is of size [N_obj 4 7 7]\n",
    "        FlattenLayer(),  # The output is of size [N_obj 196]\n",
    "        Dense(4 * 7 * 7, 8),\n",
    "        ReLU(),\n",
    "        Dense(8, 1),\n",
    "        Sigmoid()\n",
    "    )\n",
    "    return nn"
   ]
  },
  {
   "cell_type": "code",
   "execution_count": null,
   "metadata": {},
   "outputs": [],
   "source": [
    "nn = get_cnn()\n",
    "loss = NLL()\n",
    "optimizer = SGD(nn, weight_decay=0.0)"
   ]
  },
  {
   "cell_type": "code",
   "execution_count": null,
   "metadata": {},
   "outputs": [],
   "source": [
    "# It will train for about 5 minutes\n",
    "num_epochs = 5 \n",
    "batch_size = 32\n",
    "# We will store the results here\n",
    "history = {'loss': [], 'accuracy': []}\n",
    "\n",
    "# `num_epochs` represents the number of iterations\n",
    "for epoch in range(num_epochs):\n",
    "    print('Epoch {}/{}'.format(epoch + 1, num_epochs))\n",
    "    \n",
    "    # We perform iteration a one-by-one iteration of the mini-batches\n",
    "    for x_batch, y_batch in iterate_minibatches(x_train, y_train, batch_size):\n",
    "        # Predict the target value\n",
    "        y_pred = nn.forward(x_batch)\n",
    "        # Compute the gradient of the loss\n",
    "        loss_grad = loss.backward(y_pred, y_batch)\n",
    "        # Perform backwards pass\n",
    "        nn.backward(x_batch, loss_grad)\n",
    "        # Update the params\n",
    "        optimizer.update_params()\n",
    "        \n",
    "        # Save loss and accuracy values\n",
    "        history['loss'].append(loss.forward(y_pred, y_batch))\n",
    "        prediction_is_correct = (y_pred > 0.5) == (y_batch > 0.5)\n",
    "        history['accuracy'].append(np.mean(prediction_is_correct))\n",
    "        \n",
    "    print()"
   ]
  },
  {
   "cell_type": "code",
   "execution_count": null,
   "metadata": {},
   "outputs": [],
   "source": [
    "# Let's plot the results to get a better insight\n",
    "plt.figure(figsize=(8, 5))\n",
    "\n",
    "ax_1 = plt.subplot()\n",
    "ax_1.plot(history['loss'], c='g', lw=2, label='train loss')\n",
    "ax_1.set_ylabel('loss', fontsize=16)\n",
    "ax_1.set_xlabel('#batches', fontsize=16)\n",
    "\n",
    "ax_2 = plt.twinx(ax_1)\n",
    "ax_2.plot(history['accuracy'], lw=3, label='train accuracy')\n",
    "ax_2.set_ylabel('accuracy', fontsize=16)\n",
    "plt.show()"
   ]
  },
  {
   "cell_type": "markdown",
   "metadata": {},
   "source": [
    "**Things you could try:**  \n",
    "Train the model with a different `batch_size`:\n",
    "* What would happen with `batch_size=1`?\n",
    "* What would happen with `batch_size=1000`?\n",
    "* Does the speed of the computation depend on this parameter? If so, why?\n",
    "\n",
    "Train the model with a different number of `num_epochs`:\n",
    "* What would happen with `num_epochs=1`?\n",
    "* What would happen with `num_epochs=1000`?\n",
    "* How does it affect computation time, resource strain, and accuracy?"
   ]
  },
  {
   "cell_type": "markdown",
   "metadata": {},
   "source": [
    "Let's visualize the activations of the intermediate layers:"
   ]
  },
  {
   "cell_type": "code",
   "execution_count": null,
   "metadata": {},
   "outputs": [],
   "source": [
    "viz_images = x_batch[:2]\n",
    "_ = nn.forward(viz_images)\n",
    "\n",
    "activations = {\n",
    "    'conv_1': nn.layers[0].output,\n",
    "    'relu_1': nn.layers[1].output,\n",
    "    'pool_1': nn.layers[2].output,\n",
    "    'conv_2': nn.layers[3].output,\n",
    "    'relu_2': nn.layers[4].output,\n",
    "    'pool_2': nn.layers[5].output,\n",
    "}"
   ]
  },
  {
   "cell_type": "markdown",
   "metadata": {},
   "source": [
    "### Input Images"
   ]
  },
  {
   "cell_type": "code",
   "execution_count": null,
   "metadata": {},
   "outputs": [],
   "source": [
    "# Input\n",
    "f, (ax1, ax2) = plt.subplots(2, 1, figsize=(4, 8))\n",
    "\n",
    "ax1.imshow(viz_images[0, 0], cmap=plt.cm.gray_r)\n",
    "ax1.set_xticks([])\n",
    "ax1.set_yticks([])\n",
    "\n",
    "ax2.imshow(viz_images[1, 0], cmap=plt.cm.gray_r)\n",
    "ax2.set_xticks([])\n",
    "ax2.set_yticks([])\n",
    "\n",
    "plt.show()"
   ]
  },
  {
   "cell_type": "markdown",
   "metadata": {},
   "source": [
    "### Activations of Conv 1"
   ]
  },
  {
   "cell_type": "code",
   "execution_count": null,
   "metadata": {},
   "outputs": [],
   "source": [
    "# Conv 1\n",
    "f, axes = plt.subplots(2, 2, figsize=(8, 8))\n",
    "\n",
    "for i in range(2):\n",
    "    for j in range(2):\n",
    "        ax = axes[i, j]\n",
    "        ax.imshow(activations['conv_1'][i, j], cmap=plt.cm.gray_r)\n",
    "        ax.set_xticks([])\n",
    "        ax.set_yticks([])\n",
    "        ax.set_title('Channel {}'.format(j + 1))\n",
    "\n",
    "plt.show()"
   ]
  },
  {
   "cell_type": "markdown",
   "metadata": {},
   "source": [
    "### Activations of ReLU 1"
   ]
  },
  {
   "cell_type": "code",
   "execution_count": null,
   "metadata": {},
   "outputs": [],
   "source": [
    "# ReLU 1\n",
    "f, axes = plt.subplots(2, 2, figsize=(8, 8))\n",
    "\n",
    "for i in range(2):\n",
    "    for j in range(2):\n",
    "        ax = axes[i, j]\n",
    "        ax.imshow(activations['relu_1'][i, j], cmap=plt.cm.gray_r)\n",
    "        ax.set_xticks([])\n",
    "        ax.set_yticks([])\n",
    "        ax.set_title('Channel {}'.format(j + 1))\n",
    "\n",
    "plt.show()"
   ]
  },
  {
   "cell_type": "markdown",
   "metadata": {},
   "source": [
    "### Activations of MaxPooling 1"
   ]
  },
  {
   "cell_type": "code",
   "execution_count": null,
   "metadata": {},
   "outputs": [],
   "source": [
    "# Max Pooling 1\n",
    "f, axes = plt.subplots(2, 2, figsize=(8, 8))\n",
    "\n",
    "for i in range(2):\n",
    "    for j in range(2):\n",
    "        ax = axes[i, j]\n",
    "        ax.imshow(activations['pool_1'][i, j], cmap=plt.cm.gray_r)\n",
    "        ax.set_xticks([])\n",
    "        ax.set_yticks([])\n",
    "        ax.set_title('Channel {}'.format(j + 1))\n",
    "\n",
    "plt.show()"
   ]
  },
  {
   "cell_type": "markdown",
   "metadata": {},
   "source": [
    "### Activations of Conv 2"
   ]
  },
  {
   "cell_type": "code",
   "execution_count": null,
   "metadata": {},
   "outputs": [],
   "source": [
    "# Conv 2\n",
    "f, axes = plt.subplots(2, 4, figsize=(16, 8))\n",
    "\n",
    "for i in range(2):\n",
    "    for j in range(4):\n",
    "        ax = axes[i, j]\n",
    "        ax.imshow(activations['conv_2'][i, j], cmap=plt.cm.gray_r)\n",
    "        ax.set_xticks([])\n",
    "        ax.set_yticks([])\n",
    "        ax.set_title('Channel {}'.format(j + 1))\n",
    "\n",
    "plt.show()"
   ]
  },
  {
   "cell_type": "markdown",
   "metadata": {},
   "source": [
    "### Activations of ReLU 2"
   ]
  },
  {
   "cell_type": "code",
   "execution_count": null,
   "metadata": {},
   "outputs": [],
   "source": [
    "# ReLU 2\n",
    "f, axes = plt.subplots(2, 4, figsize=(16, 8))\n",
    "\n",
    "for i in range(2):\n",
    "    for j in range(4):\n",
    "        ax = axes[i, j]\n",
    "        ax.imshow(activations['relu_2'][i, j], cmap=plt.cm.gray_r)\n",
    "        ax.set_xticks([])\n",
    "        ax.set_yticks([])\n",
    "        ax.set_title('Channel {}'.format(j + 1))\n",
    "\n",
    "plt.show()"
   ]
  },
  {
   "cell_type": "markdown",
   "metadata": {},
   "source": [
    "### Activations of MaxPooling 2"
   ]
  },
  {
   "cell_type": "code",
   "execution_count": null,
   "metadata": {},
   "outputs": [],
   "source": [
    "# Max Pooling 2\n",
    "f, axes = plt.subplots(2, 4, figsize=(16, 8))\n",
    "\n",
    "for i in range(2):\n",
    "    for j in range(4):\n",
    "        ax = axes[i, j]\n",
    "        ax.imshow(activations['pool_2'][i, j], cmap=plt.cm.gray_r)\n",
    "        ax.set_xticks([])\n",
    "        ax.set_yticks([])\n",
    "        ax.set_title('Channel {}'.format(j + 1))\n",
    "\n",
    "plt.show()"
   ]
  },
  {
   "cell_type": "markdown",
   "metadata": {},
   "source": [
    "As we go deeper and deeper, images become less locally-correlated (the dependance between two neighbours decreases) and more semantically loaded.  \n",
    "Each convoluted pixel stores more and more useful information about the object.  \n",
    "In the end, this will be anaylzed using several **Dense Layers**.\n",
    "\n",
    "**Things you could try:**\n",
    "* Change the architecture of the neural network\n",
    "* Vary the number of kernels\n",
    "* Vary the size of the kernels"
   ]
  },
  {
   "cell_type": "code",
   "execution_count": null,
   "metadata": {},
   "outputs": [],
   "source": []
  }
 ],
 "metadata": {
  "kernelspec": {
   "display_name": "Python 3 (ipykernel)",
   "language": "python",
   "name": "python3"
  },
  "language_info": {
   "codemirror_mode": {
    "name": "ipython",
    "version": 3
   },
   "file_extension": ".py",
   "mimetype": "text/x-python",
   "name": "python",
   "nbconvert_exporter": "python",
   "pygments_lexer": "ipython3",
   "version": "3.9.13"
  }
 },
 "nbformat": 4,
 "nbformat_minor": 2
}
